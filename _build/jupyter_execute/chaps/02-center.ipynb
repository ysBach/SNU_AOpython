{
 "cells": [
  {
   "attachments": {},
   "cell_type": "markdown",
   "metadata": {},
   "source": [
    "(ch:center)=\n",
    "# Centering\n",
    "\n",
    "This part will teach you:\n",
    "\n",
    "1. Basic ways to find the centroid (center of mass) position using few methods.\n",
    "\n",
    "First, read [this photutils/centroids tutorial](https://photutils.readthedocs.io/en/stable/centroids.html) and [this photutils/detection tutorial](https://photutils.readthedocs.io/en/stable/detection.html). Follow the tutorials before starting this lecture note."
   ]
  },
  {
   "cell_type": "code",
   "execution_count": 1,
   "metadata": {},
   "outputs": [
    {
     "name": "stdout",
     "output_type": "stream",
     "text": [
      "This notebook was generated at 2023-04-19 17:52:02 (KST = GMT+0900) \n"
     ]
    },
    {
     "name": "stdout",
     "output_type": "stream",
     "text": [
      "0 Python     3.10.10 64bit [Clang 14.0.6 ]\n",
      "1 IPython    8.12.0\n",
      "2 OS         macOS 13.1 arm64 arm 64bit\n",
      "3 astropy    5.2.2\n",
      "4 numpy      1.24.2\n",
      "5 scipy      1.10.1\n",
      "6 matplotlib 3.7.1\n",
      "7 photutils  1.6.0\n",
      "8 version_information 1.0.4\n"
     ]
    }
   ],
   "source": [
    "# Ignore this cell if you encounter errors\n",
    "%load_ext version_information\n",
    "import time\n",
    "now = time.strftime(\"%Y-%m-%d %H:%M:%S (%Z = GMT%z)\")\n",
    "print(f\"This notebook was generated at {now} \")\n",
    "\n",
    "vv = %version_information astropy, numpy, scipy, matplotlib, photutils, version_information\n",
    "for i, pkg in enumerate(vv.packages):\n",
    "    print(f\"{i} {pkg[0]:10s} {pkg[1]:s}\")"
   ]
  },
  {
   "cell_type": "code",
   "execution_count": 2,
   "metadata": {},
   "outputs": [],
   "source": [
    "# %matplotlib notebook\n",
    "from IPython.core.interactiveshell import InteractiveShell\n",
    "from IPython import get_ipython\n",
    "%config InlineBackend.figure_format = 'retina'\n",
    "InteractiveShell.ast_node_interactivity = 'last_expr'\n",
    "ipython = get_ipython()\n",
    "\n",
    "from pathlib import Path\n",
    "import numpy as np\n",
    "\n",
    "from astropy.io import fits\n",
    "from astropy.time import Time\n",
    "from astropy import units as u\n",
    "from astropy.nddata import CCDData, Cutout2D\n",
    "from astropy.stats import sigma_clipped_stats\n",
    "\n",
    "from matplotlib import pyplot as plt\n",
    "from matplotlib import rcParams\n",
    "plt.style.use('default')\n",
    "rcParams.update({'font.size':12})\n",
    "\n",
    "from photutils.centroids import centroid_com\n",
    "\n",
    "import warnings\n",
    "warnings.filterwarnings('ignore', category=UserWarning, append=True)\n",
    "\n",
    "import _tool_visualization as vis\n",
    "\n",
    "DATAPATH = Path('../../../Tutorial_Data')\n",
    "TMPDIR = Path('tmp')\n",
    "TMPDIR.mkdir(exist_ok=True)"
   ]
  },
  {
   "attachments": {},
   "cell_type": "markdown",
   "metadata": {},
   "source": [
    "## Prepare Data\n",
    "* Cut the image with [``astropy.nddata.Cutout2D``](https://docs.astropy.org/en/stable/api/astropy.nddata.utils.Cutout2D.html).\n",
    "* I cut the image centered at ``position=(270, 320)`` and size of ``size=(100, 100)`` pixels."
   ]
  },
  {
   "cell_type": "code",
   "execution_count": 3,
   "metadata": {},
   "outputs": [
    {
     "ename": "IndexError",
     "evalue": "list index out of range",
     "output_type": "error",
     "traceback": [
      "\u001b[0;31m---------------------------------------------------------------------------\u001b[0m",
      "\u001b[0;31mIndexError\u001b[0m                                Traceback (most recent call last)",
      "Cell \u001b[0;32mIn[3], line 4\u001b[0m\n\u001b[1;32m      1\u001b[0m allfits \u001b[38;5;241m=\u001b[39m \u001b[38;5;28mlist\u001b[39m(DATAPATH\u001b[38;5;241m.\u001b[39mglob(\u001b[38;5;124m\"\u001b[39m\u001b[38;5;124m*p4179*.fits\u001b[39m\u001b[38;5;124m\"\u001b[39m))\n\u001b[1;32m      2\u001b[0m allfits\u001b[38;5;241m.\u001b[39msort()\n\u001b[0;32m----> 4\u001b[0m hdul \u001b[38;5;241m=\u001b[39m fits\u001b[38;5;241m.\u001b[39mopen(\u001b[43mallfits\u001b[49m\u001b[43m[\u001b[49m\u001b[38;5;241;43m0\u001b[39;49m\u001b[43m]\u001b[49m)\n\u001b[1;32m      5\u001b[0m hdr \u001b[38;5;241m=\u001b[39m hdul[\u001b[38;5;241m0\u001b[39m]\u001b[38;5;241m.\u001b[39mheader\n\u001b[1;32m      6\u001b[0m data \u001b[38;5;241m=\u001b[39m hdul[\u001b[38;5;241m0\u001b[39m]\u001b[38;5;241m.\u001b[39mdata\n",
      "\u001b[0;31mIndexError\u001b[0m: list index out of range"
     ]
    }
   ],
   "source": [
    "allfits = list(DATAPATH.glob(\"*p4179*.fits\"))\n",
    "allfits.sort()\n",
    "\n",
    "hdul = fits.open(allfits[0])\n",
    "hdr = hdul[0].header\n",
    "data = hdul[0].data\n",
    "cut_hdu = Cutout2D(data=data, position=(270,320), size=(95,100))\n",
    "\n",
    "fig, axs = plt.subplots(1, 1, figsize=(3, 4), sharex=False, sharey=False, gridspec_kw=None)\n",
    "vis.norm_imshow(axs, cut_hdu.data, zscale=True)\n",
    "plt.tight_layout()"
   ]
  },
  {
   "attachments": {},
   "cell_type": "markdown",
   "metadata": {},
   "source": [
    "## Finding Centroid\n",
    "\n",
    "There are multiple practical ways to find the center of an object. Here, I will introduce four simplest ways.\n",
    "\n",
    "1. The center-of-mass of the image.\n",
    "2. Using Gaussian function.\n",
    "3. Find the center by DAOPHOT-like algorithm (see below)\n",
    "4. Find the center by SExtractor-like algorithm (see below)\n",
    "\n",
    "The center of mass is easy to calculate, but in python, `scipy` provides a simple function [`center_of_mass`](https://docs.scipy.org/doc/scipy/reference/generated/scipy.ndimage.center_of_mass.html). In astronomical images, people will just use [`photutils.centroids.centroid_com`](https://photutils.readthedocs.io/en/stable/api/photutils.centroids.centroid_com.html#photutils.centroids.centroid_com).\n",
    "\n",
    "To fit Gaussian function to the image, there are several ways to do this. First, decide whether you want a circular Gaussian (4 parameters = x-center, y-center, amplitude, sigma), or an elliptical Gaussian (6 parameters = same as circular case except sigma_x, sigma_y, theta). Then you can directly fit 2-D Gaussian to the image. When background level is non-zero, you need one more constant parameter.\n",
    "\n",
    "Due to the mathematical characteristic of Gaussian function, you can also prove this: Say $I(x, y) = G_x(x | \\mu_x, \\sigma_x) \\times G_y(y | \\mu_y, \\sigma_y)$. Here $G_x$ and $G_y$ are the Gaussian fitting results for the image is summed along the y- and x-direction, respectively. $\\mu$ and $\\sigma$ are the center and standard deviation of fitted Gaussians, respectively. For example, $G_x(x| \\mu_x, \\sigma_y)$ is the fitted Gaussian to data $D(x) = \\sum_{y=1}{N_y} D(x, y)$. Then $I(x, y)$ is a Gaussian with center $(\\mu_x, \\mu_y)$. This holds true only if $\\mathrm{min} \\{I\\} = 0$ is guaranteed, which is usually not the case in real images.\n",
    "\n",
    "For several reasons, Gaussian fitting is not always the best choice.\n",
    "\n",
    "DAOPHOT algorithm is that described in [Stetson 1987](https://ui.adsabs.harvard.edu/abs/1987PASP...99..191S/abstract) and you have already used it in photutils/detection tutorial. This is basically used when you are dealing with **circular stars**.  If you are studying extended sources (nebula, galaxy, non-sidereal objects, etc), it may not work properly.\n",
    "\n",
    "SExtractor-like algorithm is basically used to detect general objects and also has power to calculate proper/useful center information. You will study this later in extended sources lecture note.\n"
   ]
  },
  {
   "attachments": {},
   "cell_type": "markdown",
   "metadata": {},
   "source": [
    "### Simple Center-of-Mass\n",
    "Consider you want to find the center of mass of the star in the cropped image above. This is acutally not an easy task, because real data is contaminated by cosmic-rays, defects (dead pixels, hot pixels, ...), background objects, uneven sky, etc.\n",
    "\n",
    "To improve the robustness of center-of-mass, I here used the most elementary level algorithm I could think of.\n",
    "* Do sigma-clipping to the cutout data. Get statistics of the clipped data.\n",
    "* Set the threshold as median plus 3-sigma.\n",
    "* Get centroid by center of mass algorithm using only the pixels above that threshold level."
   ]
  },
  {
   "cell_type": "code",
   "execution_count": 4,
   "metadata": {},
   "outputs": [
    {
     "ename": "NameError",
     "evalue": "name 'cut_hdu' is not defined",
     "output_type": "error",
     "traceback": [
      "\u001b[0;31m---------------------------------------------------------------------------\u001b[0m",
      "\u001b[0;31mNameError\u001b[0m                                 Traceback (most recent call last)",
      "Cell \u001b[0;32mIn[4], line 1\u001b[0m\n\u001b[0;32m----> 1\u001b[0m avg, med, std \u001b[38;5;241m=\u001b[39m sigma_clipped_stats(\u001b[43mcut_hdu\u001b[49m\u001b[38;5;241m.\u001b[39mdata)  \u001b[38;5;66;03m# by default, 3-sigma 5-iteration.\u001b[39;00m\n\u001b[1;32m      2\u001b[0m thresh_3sig \u001b[38;5;241m=\u001b[39m med \u001b[38;5;241m+\u001b[39m \u001b[38;5;241m3\u001b[39m \u001b[38;5;241m*\u001b[39m std\n\u001b[1;32m      3\u001b[0m mask_3sig \u001b[38;5;241m=\u001b[39m (cut_hdu\u001b[38;5;241m.\u001b[39mdata \u001b[38;5;241m<\u001b[39m thresh_3sig)\n",
      "\u001b[0;31mNameError\u001b[0m: name 'cut_hdu' is not defined"
     ]
    }
   ],
   "source": [
    "avg, med, std = sigma_clipped_stats(cut_hdu.data)  # by default, 3-sigma 5-iteration.\n",
    "thresh_3sig = med + 3 * std\n",
    "mask_3sig = (cut_hdu.data < thresh_3sig)\n",
    "center = centroid_com(data=cut_hdu.data, mask=mask_3sig)\n",
    "print(center)\n",
    "\n",
    "fig, axs = plt.subplots(1, 1, figsize=(3, 4), sharex=False, sharey=False, gridspec_kw=None)\n",
    "vis.norm_imshow(axs, mask_3sig.astype(int))\n",
    "vis.norm_imshow(axs, cut_hdu.data, alpha=0.4, zscale=True)\n",
    "axs.plot(*center, 'rx')\n",
    "plt.tight_layout()"
   ]
  },
  {
   "cell_type": "markdown",
   "metadata": {},
   "source": []
  },
  {
   "attachments": {},
   "cell_type": "markdown",
   "metadata": {},
   "source": [
    "In the code, I overplotted the image onto the ``mask_3sig``. The faint background-like feature is the original image, and the highlight means the pixels used for the centroid calculation. Red cross is the thus found centroid.\n"
   ]
  },
  {
   "attachments": {},
   "cell_type": "markdown",
   "metadata": {},
   "source": [
    "```{admonition} Practice\n",
    ":class: tip\n",
    "In realistic centroiding, this method **should not be used**. This is becasue virtually all of the photometric information is contained in only very small area around the true center, so we need to do centroiding using, e.g., ``cbox`` (shorthand for centroiding box) size of $\\sim$ 1-3 FWHM to minimize error sources. What you have to do is to cutout only a small region near the center of the object and do centroiding. This is not an easy task to realize, so it is better to use pre-made functions.\n",
    "\n",
    "Consider you have to know the center of mass of this object (e.g., you cannot use Gaussian fitting, DAOPHOT, etc). How would you calculate it **robustly**? Give at least three possible algorithms/methods/improvements you can think of. Possible hints: You can use `mask`, bad-pixel rejection/interpolation, etc. You may have an idea which of them will work best only after you encounter an enormous amount of real data...\n",
    "```"
   ]
  },
  {
   "cell_type": "markdown",
   "metadata": {},
   "source": []
  }
 ],
 "metadata": {
  "kernelspec": {
   "display_name": "base",
   "language": "python",
   "name": "python3"
  },
  "language_info": {
   "codemirror_mode": {
    "name": "ipython",
    "version": 3
   },
   "file_extension": ".py",
   "mimetype": "text/x-python",
   "name": "python",
   "nbconvert_exporter": "python",
   "pygments_lexer": "ipython3",
   "version": "3.10.10"
  }
 },
 "nbformat": 4,
 "nbformat_minor": 2
}