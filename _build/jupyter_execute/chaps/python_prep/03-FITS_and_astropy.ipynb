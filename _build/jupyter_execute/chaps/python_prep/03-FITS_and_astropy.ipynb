{
 "cells": [
  {
   "attachments": {},
   "cell_type": "markdown",
   "metadata": {},
   "source": [
    "(00:astropy_fits)=\n",
    "# About `astropy.fits`\n",
    "\n",
    "## Basic Information about FITS\n",
    "* **FITS**: For detailed information about FITS (Flexible Image Transport System), you can refer to the [official website](https://fits.gsfc.nasa.gov) and the [latest FITS standard document](https://fits.gsfc.nasa.gov/standard40/fits_standard40aa-le.pdf).\n",
    "    * §4.4.2 of the document mentioned above describes some frequently encountered standard keywords in FITS files, such as `DATE-OBS`, `OBJECT`, `TELESCOP`, `INSTRUME`, `OBSERVER`, `BSCALE`, `BZERO`, `BUNIT`, etc.\n",
    "    * Appendix C provides a summary of the standard keywords.\n",
    "    * Chap. 8 provides a brief explanation of the World Coordinate System (WCS).\n",
    "\n",
    "* **HDU**: Header Data Unit. It represents a component of a FITS file that consists of a header and possibly associated data.\n",
    "\n",
    "* **HDU List**: In Python, an HDU List is a list-like object that contains multiple HDU objects. It allows storing and manipulating multiple HDUs within a single FITS file.\n",
    "\n",
    "* **MEF**: Multi-Extension FITS, where multiple HDUs are present in a single FITS file. Each HDU can have its own header and data. The simplest FITS file contains only the primary HDU (so it is not an MEF).\n",
    "\n",
    "In some cases, FITS files consist of multiple HDUs, allowing for the storage of various types of data and associated metadata within a single file. The use of MEF enables the organization and management of complex data structures within FITS files.\n"
   ]
  },
  {
   "attachments": {},
   "cell_type": "markdown",
   "metadata": {},
   "source": [
    "## Prerequisites\n",
    "\n",
    "Before starting this notebook, it is essential to go through the following resources:\n",
    "\n",
    "**MUST READ**:\n",
    "* [Viewing and manipulating FITS images](https://learn.astropy.org/tutorials/FITS-images.html): This tutorial provides an overview of working with FITS images using the example of the Horsehead nebula image.\n",
    "* [Same as above](http://eso-python.github.io/ESOPythonTutorials/FITS-images.html): This tutorial covers similar concepts but may have slightly different implementations, and the outputs shown might be outdated.\n",
    "\n",
    "**Highly recommended to read**:\n",
    "* [Learn Astropy](https://learn.astropy.org/): It is highly recommended to explore the Learn Astropy website, as it offers a comprehensive set of tutorials and resources covering various aspects of the Astropy library.\n",
    "\n",
    "**Other References**\n",
    "\n",
    "For additional resources or advanced tutorials for further research purposes, you can visit the [Learn Astropy](https://learn.astropy.org/) website and select the \"fits\" section from the left sidebar."
   ]
  },
  {
   "cell_type": "code",
   "execution_count": 1,
   "metadata": {},
   "outputs": [],
   "source": [
    "from pathlib import Path\n",
    "import numpy as np\n",
    "import time\n",
    "\n",
    "from astropy.io import fits\n",
    "from astropy.nddata import CCDData"
   ]
  },
  {
   "attachments": {},
   "cell_type": "markdown",
   "metadata": {},
   "source": [
    "## FITS from `Astropy`"
   ]
  },
  {
   "attachments": {},
   "cell_type": "markdown",
   "metadata": {},
   "source": [
    "### Making FITS  from ndarray\n",
    "If you only have ndarray (e.g., numpy array), how can we convert it to FITS?"
   ]
  },
  {
   "attachments": {},
   "cell_type": "markdown",
   "metadata": {},
   "source": [
    "#### Making and Saving with ``CCDData``\n",
    "The simplest way is to use ``CCDData``:"
   ]
  },
  {
   "cell_type": "code",
   "execution_count": 2,
   "metadata": {},
   "outputs": [
    {
     "name": "stdout",
     "output_type": "stream",
     "text": [
      "<class 'astropy.nddata.ccddata.CCDData'>\n",
      "[[1. 1. 1. ... 1. 1. 1.]\n",
      " [1. 1. 1. ... 1. 1. 1.]\n",
      " [1. 1. 1. ... 1. 1. 1.]\n",
      " ...\n",
      " [1. 1. 1. ... 1. 1. 1.]\n",
      " [1. 1. 1. ... 1. 1. 1.]\n",
      " [1. 1. 1. ... 1. 1. 1.]]\n"
     ]
    }
   ],
   "source": [
    "test_data_01 = np.ones((100, 100))\n",
    "test_ccd_01 = CCDData(data=test_data_01, header=None, unit='adu')\n",
    "print(type(test_ccd_01))\n",
    "print(test_ccd_01.data)"
   ]
  },
  {
   "cell_type": "code",
   "execution_count": 3,
   "metadata": {},
   "outputs": [
    {
     "data": {
      "text/plain": [
       "OrderedDict()"
      ]
     },
     "execution_count": 3,
     "metadata": {},
     "output_type": "execute_result"
    }
   ],
   "source": [
    "test_ccd_01.header"
   ]
  },
  {
   "attachments": {},
   "cell_type": "markdown",
   "metadata": {},
   "source": [
    "Note that \n",
    "1. ``unit`` is a mandatory for ``CCDData`` (which is, in my humble opinion, very annoying...)\n",
    "2. The ``test_ccd_01.header`` does not contain anything and returned as ``OrderedDict()``. \n",
    "\n",
    "**It is always recommended to attach header to each FITS file**, but let me just save it for simple example:"
   ]
  },
  {
   "cell_type": "code",
   "execution_count": 4,
   "metadata": {},
   "outputs": [],
   "source": [
    "test_ccd_01.write(\"test_01.fits\", overwrite=True)"
   ]
  },
  {
   "attachments": {},
   "cell_type": "markdown",
   "metadata": {},
   "source": [
    "Indeed, there is a dedicated writer called [``fits_ccddata_writer``](https://docs.astropy.org/en/stable/api/astropy.nddata.fits_ccddata_writer.html#astropy.nddata.fits_ccddata_writer) in Astropy, which is specifically designed for saving a ``CCDData`` object to a FITS file. This writer provides various options for saving the data; refer to the documentation for details of the available saving options and their usage."
   ]
  },
  {
   "attachments": {},
   "cell_type": "markdown",
   "metadata": {},
   "source": [
    "#### Creating and Saving FITS Data with `astropy.fits`\n",
    "When dealing with FITS, `astropy.fits` is a more general approach compared to `astropy.nddata.CCDData` class. FITS files can contain various types of data, such as CCD images, star catalogs, simulation data, etc. `CCDData` class can only deal with CCD-like (intended to be 2-D) image files.\n",
    "\n",
    "There are at least two ways to save 2D CCD-like data using `astropy.fits`:\n",
    "\n",
    "1. Using `PrimaryHDU()`: A simple choice for a single extension.\n",
    "2. Using `ImageHDU()`: A suitable choice for cases involving Multi-Extension FITS (MEF).\n",
    "\n",
    "In this note, I will demonstrate how to create an `HDUList` and save it using the straightforward `PrimaryHDU()` approach. For MEF cases, you can find an example later in this note. You can also refer to the [Astropy documentation on HDU](https://docs.astropy.org/en/stable/io/fits/api/hdus.html) to explore other classes of HDUs and their usage."
   ]
  },
  {
   "cell_type": "code",
   "execution_count": 5,
   "metadata": {},
   "outputs": [
    {
     "name": "stdout",
     "output_type": "stream",
     "text": [
      "<class 'astropy.io.fits.hdu.image.PrimaryHDU'>\n",
      "[[1. 1. 1. ... 1. 1. 1.]\n",
      " [1. 1. 1. ... 1. 1. 1.]\n",
      " [1. 1. 1. ... 1. 1. 1.]\n",
      " ...\n",
      " [1. 1. 1. ... 1. 1. 1.]\n",
      " [1. 1. 1. ... 1. 1. 1.]\n",
      " [1. 1. 1. ... 1. 1. 1.]]\n"
     ]
    }
   ],
   "source": [
    "test_data_01 = np.ones((100, 100))\n",
    "test_hdu_01 = fits.PrimaryHDU(data=test_data_01, header=None)\n",
    "print(type(test_hdu_01))\n",
    "print(test_hdu_01.data)"
   ]
  },
  {
   "cell_type": "code",
   "execution_count": 6,
   "metadata": {},
   "outputs": [],
   "source": [
    "# If you want, you can make HDUList.\n",
    "# But it is unnecessary because we have only one extension.\n",
    "# hdul = fits.HDUList([test_hdu_01])\n",
    "\n",
    "test_hdu_01.writeto(\"test_01.fits\", overwrite=True, output_verify='fix')"
   ]
  },
  {
   "attachments": {},
   "cell_type": "markdown",
   "metadata": {},
   "source": [
    "For the options when writing, please look at the official document ([here](https://astropy.readthedocs.io/en/stable/io/fits/api/files.html#astropy.io.fits.writeto))."
   ]
  },
  {
   "attachments": {},
   "cell_type": "markdown",
   "metadata": {},
   "source": [
    "### Reading FITS"
   ]
  },
  {
   "attachments": {},
   "cell_type": "markdown",
   "metadata": {},
   "source": [
    "#### Reading with ``CCDData.read()``\n",
    "\n",
    "Let's read this:"
   ]
  },
  {
   "cell_type": "code",
   "execution_count": 7,
   "metadata": {},
   "outputs": [
    {
     "name": "stdout",
     "output_type": "stream",
     "text": [
      "<class 'astropy.nddata.ccddata.CCDData'>\n",
      "[[1. 1. 1. ... 1. 1. 1.]\n",
      " [1. 1. 1. ... 1. 1. 1.]\n",
      " [1. 1. 1. ... 1. 1. 1.]\n",
      " ...\n",
      " [1. 1. 1. ... 1. 1. 1.]\n",
      " [1. 1. 1. ... 1. 1. 1.]\n",
      " [1. 1. 1. ... 1. 1. 1.]]\n"
     ]
    }
   ],
   "source": [
    "test_ccd_01_read = CCDData.read(\"test_01.fits\", unit=\"adu\")\n",
    "print(type(test_ccd_01_read))\n",
    "print(test_ccd_01_read.data)"
   ]
  },
  {
   "cell_type": "code",
   "execution_count": 8,
   "metadata": {},
   "outputs": [
    {
     "data": {
      "text/plain": [
       "SIMPLE  =                    T / conforms to FITS standard                      \n",
       "BITPIX  =                  -64 / array data type                                \n",
       "NAXIS   =                    2 / number of array dimensions                     \n",
       "NAXIS1  =                  100                                                  \n",
       "NAXIS2  =                  100                                                  \n",
       "EXTEND  =                    T                                                  "
      ]
     },
     "execution_count": 8,
     "metadata": {},
     "output_type": "execute_result"
    }
   ],
   "source": [
    "test_ccd_01_read.header"
   ]
  },
  {
   "attachments": {},
   "cell_type": "markdown",
   "metadata": {},
   "source": [
    "Please note that when saving data using `astropy.fits`, the header is automatically generated for you.\n",
    "\n",
    "The automatically generated header includes the following **mandatory** keywords, which follow the FITS standard:\n",
    "1. `SIMPLE = T`: Indicates that the file is in standard FITS format.\n",
    "2. `BITPIX = -64`: Indicates that the data is stored as a 64-bit floating-point format.\n",
    "3. `NAXIS = 2`: Specifies that the data has 2 axes.\n",
    "4. `NAXIS1 = 100` and `NAXIS2 = 100`: Specify the length of the first axis (X-axis) and the second axis (Y-axis) of the data, respectively. Note that the X-axis corresponds to `numpy` axis 1, and the Y-axis corresponds to `numpy` axis 0.\n",
    "5. `BUNIT = 'adu    '`: Specifies that the unit of the pixel values is in ADU (analog-to-digital units).\n",
    "\n",
    "Based on the [Astropy documentation](https://docs.astropy.org/en/stable/io/fits/usage/image.html), the relationship between the `BITPIX` value and the corresponding `numpy` data type is as follows:\n",
    "```\n",
    "BITPIX    Numpy Data Type\n",
    "8         numpy.uint8 (unsigned integer)\n",
    "16        numpy.int16\n",
    "32        numpy.int32\n",
    "-32       numpy.float32\n",
    "-64       numpy.float64\n",
    "```"
   ]
  },
  {
   "attachments": {},
   "cell_type": "markdown",
   "metadata": {},
   "source": [
    "#### Reading with ``fits.open()``\n",
    "Once it is saved, you can also read the FITS using ``astropy.fits``:"
   ]
  },
  {
   "cell_type": "code",
   "execution_count": 9,
   "metadata": {},
   "outputs": [
    {
     "name": "stdout",
     "output_type": "stream",
     "text": [
      "<class 'astropy.io.fits.hdu.hdulist.HDUList'>\n"
     ]
    }
   ],
   "source": [
    "test_ccd_01_hdul = fits.open(\"test_01.fits\")\n",
    "print(type(test_ccd_01_hdul))"
   ]
  },
  {
   "attachments": {},
   "cell_type": "markdown",
   "metadata": {},
   "source": [
    "Now it's not ``CCDData``, but ``HDUList`` object. It's like a python list, so you need to specify the index based on the information:"
   ]
  },
  {
   "cell_type": "code",
   "execution_count": 10,
   "metadata": {},
   "outputs": [
    {
     "name": "stdout",
     "output_type": "stream",
     "text": [
      "Filename: test_01.fits\n",
      "No.    Name      Ver    Type      Cards   Dimensions   Format\n",
      "  0  PRIMARY       1 PrimaryHDU       6   (100, 100)   float64   \n",
      "None\n"
     ]
    }
   ],
   "source": [
    "print(test_ccd_01_hdul.info())"
   ]
  },
  {
   "cell_type": "code",
   "execution_count": 11,
   "metadata": {},
   "outputs": [
    {
     "name": "stdout",
     "output_type": "stream",
     "text": [
      "<class 'astropy.io.fits.hdu.image.PrimaryHDU'>\n",
      "<class 'astropy.io.fits.hdu.image.PrimaryHDU'>\n"
     ]
    }
   ],
   "source": [
    "print(type(test_ccd_01_hdul[0]))\n",
    "print(type(test_ccd_01_hdul[\"PRIMARY\"]))"
   ]
  },
  {
   "attachments": {},
   "cell_type": "markdown",
   "metadata": {},
   "source": [
    "As can be seen, you can use index or ``Name`` in the ``.info()`` result."
   ]
  },
  {
   "cell_type": "code",
   "execution_count": 12,
   "metadata": {},
   "outputs": [
    {
     "name": "stdout",
     "output_type": "stream",
     "text": [
      "[[1. 1. 1. ... 1. 1. 1.]\n",
      " [1. 1. 1. ... 1. 1. 1.]\n",
      " [1. 1. 1. ... 1. 1. 1.]\n",
      " ...\n",
      " [1. 1. 1. ... 1. 1. 1.]\n",
      " [1. 1. 1. ... 1. 1. 1.]\n",
      " [1. 1. 1. ... 1. 1. 1.]]\n"
     ]
    }
   ],
   "source": [
    "print(test_ccd_01_hdul[0].data)"
   ]
  },
  {
   "cell_type": "code",
   "execution_count": 13,
   "metadata": {},
   "outputs": [
    {
     "data": {
      "text/plain": [
       "SIMPLE  =                    T / conforms to FITS standard                      \n",
       "BITPIX  =                  -64 / array data type                                \n",
       "NAXIS   =                    2 / number of array dimensions                     \n",
       "NAXIS1  =                  100                                                  \n",
       "NAXIS2  =                  100                                                  \n",
       "EXTEND  =                    T                                                  "
      ]
     },
     "execution_count": 13,
     "metadata": {},
     "output_type": "execute_result"
    }
   ],
   "source": [
    "test_ccd_01_hdul[0].header"
   ]
  },
  {
   "attachments": {},
   "cell_type": "markdown",
   "metadata": {},
   "source": [
    "Now you have identical result as the above ``CCDData.read`` case."
   ]
  },
  {
   "attachments": {},
   "cell_type": "markdown",
   "metadata": {},
   "source": [
    "You can also use other methods (see [File Handling and Convenience Functions](https://docs.astropy.org/en/stable/io/fits/api/files.html)). Here are a few examples:\n",
    "\n",
    "* `getheader()`: Retrieves only the header information from a FITS file.\n",
    "* `getdata()`: Retrieves only the data from a FITS file.\n",
    "\n",
    "But if you need both header and data, **DON'T** use these, but just use ``.open()``. The `getheader()` and `getdata()` methods are useful only when you specifically require one of the two separately.\n",
    "\n",
    "\n",
    "* **NOTE**: It is important to note that using methods like `setval()`, `delval()`, and similar methods to modify the header should be done with caution. These methods can overwrite existing information in the header. If you later discover a mistake or bug in your code, you would need to re-download the FITS files to start over again. Therefore, it is advisable to use these methods only when you have a definite reason and are fully aware of the consequences of modifying the header information."
   ]
  },
  {
   "attachments": {},
   "cell_type": "markdown",
   "metadata": {},
   "source": [
    "### Adding/Manipulating Header\n",
    "There are several ways to add header using [``Header``](https://docs.astropy.org/en/stable/io/fits/api/headers.html)."
   ]
  },
  {
   "attachments": {},
   "cell_type": "markdown",
   "metadata": {},
   "source": [
    "#### ``Header.fromstring()``\n",
    "The most primitive way. Likely this is used only if you want to make a fixed example (such as bug report) or tutorial like this notebook."
   ]
  },
  {
   "cell_type": "code",
   "execution_count": 14,
   "metadata": {},
   "outputs": [],
   "source": [
    "test_data_02 = np.ones((10, 20))\n",
    "\n",
    "header_str = '''OBJECT  = 'dark    '                                                            \n",
    "GAIN    =    1.360000014305115 / [e-/ADU] The electron gain factor.             \n",
    "RDNOISE =                  9.0 / [e-] The (Gaussian) read noise.                \n",
    "'''\n",
    "header = fits.Header.fromstring(header_str, sep='\\n')\n",
    "test_ccd_02 = CCDData(data=test_data_02, header=header, unit='adu')"
   ]
  },
  {
   "cell_type": "code",
   "execution_count": 15,
   "metadata": {},
   "outputs": [
    {
     "data": {
      "text/plain": [
       "OBJECT  = 'dark    '                                                            \n",
       "GAIN    =    1.360000014305115 / [e-/ADU] The electron gain factor.             \n",
       "RDNOISE =                  9.0 / [e-] The (Gaussian) read noise.                "
      ]
     },
     "execution_count": 15,
     "metadata": {},
     "output_type": "execute_result"
    }
   ],
   "source": [
    "test_ccd_02.header"
   ]
  },
  {
   "cell_type": "code",
   "execution_count": 16,
   "metadata": {},
   "outputs": [],
   "source": [
    "test_ccd_02.write(\"test2.fits\", overwrite=True)\n",
    "test_ccd_02_read = CCDData.read(\"test2.fits\")"
   ]
  },
  {
   "cell_type": "code",
   "execution_count": 17,
   "metadata": {},
   "outputs": [
    {
     "data": {
      "text/plain": [
       "SIMPLE  =                    T / conforms to FITS standard                      \n",
       "BITPIX  =                  -64 / array data type                                \n",
       "NAXIS   =                    2 / number of array dimensions                     \n",
       "NAXIS1  =                   20                                                  \n",
       "NAXIS2  =                   10                                                  \n",
       "OBJECT  = 'dark    '                                                            \n",
       "GAIN    =    1.360000014305115 / [e-/ADU] The electron gain factor.             \n",
       "RDNOISE =                  9.0 / [e-] The (Gaussian) read noise.                \n",
       "BUNIT   = 'adu     '                                                            "
      ]
     },
     "execution_count": 17,
     "metadata": {},
     "output_type": "execute_result"
    }
   ],
   "source": [
    "test_ccd_02_read.header"
   ]
  },
  {
   "attachments": {},
   "cell_type": "markdown",
   "metadata": {},
   "source": [
    "There are other similar methods, ``.fromtextfile()`` (when you have header in text file) and ``fromkeys()`` (when you have header in something like ``dict``). See above ``Header`` doc."
   ]
  },
  {
   "attachments": {},
   "cell_type": "markdown",
   "metadata": {},
   "source": [
    "To set header keyword, value, and comment in a `Header` object, you have several options available:\n",
    "\n",
    "1. `header[<key>] = <value>`: Assigns a value to a specific keyword in the header.\n",
    "2. `header[<key>] = (<value>, <comment>)`: Assigns a value and comment to a specific keyword in the header.\n",
    "3. `header.set(<key>, <value>, [<comment>])` method: Sets the value and an optional comment for a specific keyword in the header.\n",
    "4. `header.add_comment(<comment_message>)` method: Adds a comment using the `COMMENT` keyword. Comments are typically used to provide additional information, references, or explanations that are not crucial as key-value pairs.\n",
    "5. `header.add_history(<history>)` method: Adds a history record using the `HISTORY` keyword. History records are often used to document the actions or operations performed on the data.\n",
    "\n",
    "Both `COMMENT` and `HISTORY` entries will appear at the end of the header (unless specified), regardless of the order in which they were added."
   ]
  },
  {
   "cell_type": "code",
   "execution_count": 18,
   "metadata": {},
   "outputs": [],
   "source": [
    "header = fits.Header.fromstring('')  # empty header\n",
    "\n",
    "# 1) Basic setting\n",
    "header[\"object\"] = 'dark'  # header key will automatically be capitalized\n",
    "\n",
    "# 2) With comment\n",
    "header[\"GAIN\"] = (1.36, \"[e-/ADU] The electron gain factor.\")\n",
    "\n",
    "# 3) Using .set()\n",
    "header.set(\"RDNOISE\", 9.0, \"[e-] The (Gaussian) read noise.\")\n",
    "header.set(\"RDNOISE\", 10.0, \"[e-] The (Gaussian) read noise. Oops, I am adding it again! What will happen?\")\n",
    "\n",
    "# 4) Adding COMMENT line\n",
    "header.add_comment(\"This is a testing fits file.\")\n",
    "header.add_comment(\"This is the second comment.\")\n",
    "header.add_comment(\"What if the comment is too long? \"*6)\n",
    "\n",
    "# 5) Adding HISTORY line\n",
    "header.add_history(\"Bias subtracted 2019-01-01T00:00:01\")\n",
    "header.add_history(\"Dark corrected 2019-01-01T00:00:02\")\n",
    "header.add_history(\"Flat corrected 2019-01-01T00:00:03\")\n",
    "header.add_history(\"Cosmic ray rejected 2019-01-01T00:00:04\")\n",
    "header.add_history(\"WCS added 2019-01-01T00:00:06\")\n",
    "\n",
    "test_ccd_03 = CCDData(data=test_data_02, header=header, unit='adu')"
   ]
  },
  {
   "cell_type": "code",
   "execution_count": 19,
   "metadata": {},
   "outputs": [
    {
     "name": "stderr",
     "output_type": "stream",
     "text": [
      "WARNING: VerifyWarning: Card is too long, comment will be truncated. [astropy.io.fits.card]\n"
     ]
    },
    {
     "data": {
      "text/plain": [
       "OBJECT  = 'dark    '                                                            \n",
       "GAIN    =                 1.36 / [e-/ADU] The electron gain factor.             \n",
       "RDNOISE =                 10.0 / [e-] The (Gaussian) read noise. Oops, I am addi\n",
       "COMMENT This is a testing fits file.                                            \n",
       "COMMENT This is the second comment.                                             \n",
       "COMMENT What if the comment is too long? What if the comment is too long? What i\n",
       "COMMENT f the comment is too long? What if the comment is too long? What if the \n",
       "COMMENT comment is too long? What if the comment is too long?                   \n",
       "HISTORY Bias subtracted 2019-01-01T00:00:01                                     \n",
       "HISTORY Dark corrected 2019-01-01T00:00:02                                      \n",
       "HISTORY Flat corrected 2019-01-01T00:00:03                                      \n",
       "HISTORY Cosmic ray rejected 2019-01-01T00:00:04                                 \n",
       "HISTORY WCS added 2019-01-01T00:00:06                                           "
      ]
     },
     "execution_count": 19,
     "metadata": {},
     "output_type": "execute_result"
    }
   ],
   "source": [
    "test_ccd_03.header"
   ]
  },
  {
   "attachments": {},
   "cell_type": "markdown",
   "metadata": {},
   "source": [
    "From the result in the `RDNOISE` example, you can observe that the header is indeed overwritten by the newer value and comment when using the mentioned methods. If a comment is too long, it will be truncated as indicated by the `WARNING` message.\n",
    "\n",
    "Regarding the long comment in the `COMMENT` example, you can see that a line break occurs when the comment exceeds a certain length. This behavior ensures that the comment fits within the maximum allowed width for each line in the FITS header."
   ]
  },
  {
   "cell_type": "code",
   "execution_count": 20,
   "metadata": {},
   "outputs": [],
   "source": [
    "test_ccd_03.write(\"test3.fits\", overwrite=True)\n",
    "test_ccd_03_read = CCDData.read(\"test3.fits\")"
   ]
  },
  {
   "cell_type": "code",
   "execution_count": 21,
   "metadata": {},
   "outputs": [
    {
     "data": {
      "text/plain": [
       "SIMPLE  =                    T / conforms to FITS standard                      \n",
       "BITPIX  =                  -64 / array data type                                \n",
       "NAXIS   =                    2 / number of array dimensions                     \n",
       "NAXIS1  =                   20                                                  \n",
       "NAXIS2  =                   10                                                  \n",
       "OBJECT  = 'dark    '                                                            \n",
       "GAIN    =                 1.36 / [e-/ADU] The electron gain factor.             \n",
       "RDNOISE =                 10.0 / [e-] The (Gaussian) read noise. Oops, I am addi\n",
       "BUNIT   = 'adu     '                                                            \n",
       "COMMENT This is a testing fits file.                                            \n",
       "COMMENT This is the second comment.                                             \n",
       "COMMENT What if the comment is too long? What if the comment is too long? What i\n",
       "COMMENT f the comment is too long? What if the comment is too long? What if the \n",
       "COMMENT comment is too long? What if the comment is too long?                   \n",
       "HISTORY Bias subtracted 2019-01-01T00:00:01                                     \n",
       "HISTORY Dark corrected 2019-01-01T00:00:02                                      \n",
       "HISTORY Flat corrected 2019-01-01T00:00:03                                      \n",
       "HISTORY Cosmic ray rejected 2019-01-01T00:00:04                                 \n",
       "HISTORY WCS added 2019-01-01T00:00:06                                           "
      ]
     },
     "execution_count": 21,
     "metadata": {},
     "output_type": "execute_result"
    }
   ],
   "source": [
    "test_ccd_03_read.header"
   ]
  },
  {
   "attachments": {},
   "cell_type": "markdown",
   "metadata": {},
   "source": [
    "### Making/Reading MEF (optional)\n",
    "If you are not advanced FITS user, it's generally better **NOT** to think about **making** MEF. It's better to stick to single-extension FITS format. \n",
    "\n",
    "But for many cases, e.g., HST images, may contain MEF, because there are clear reasons. Thus, I add how to deal with MEF here."
   ]
  },
  {
   "cell_type": "code",
   "execution_count": 22,
   "metadata": {},
   "outputs": [],
   "source": [
    "prim = fits.PrimaryHDU(data=None, header=header)\n",
    "im1 = fits.ImageHDU(data=np.ones((10, 10)), header=None, name=\"SCI\")\n",
    "im2 = fits.ImageHDU(data=np.zeros((10, 10)), header=None, name=\"UNCERT\")\n",
    "hdul_mef = fits.HDUList([prim, im1, im2])\n",
    "hdul_mef.writeto(\"test_mef.fits\", overwrite=True, output_verify='fix')"
   ]
  },
  {
   "cell_type": "code",
   "execution_count": 23,
   "metadata": {},
   "outputs": [
    {
     "name": "stdout",
     "output_type": "stream",
     "text": [
      "Filename: test_mef.fits\n",
      "No.    Name      Ver    Type      Cards   Dimensions   Format\n",
      "  0  PRIMARY       1 PrimaryHDU      17   ()      \n",
      "  1  SCI           1 ImageHDU         8   (10, 10)   float64   \n",
      "  2  UNCERT        1 ImageHDU         8   (10, 10)   float64   \n",
      "None\n"
     ]
    }
   ],
   "source": [
    "hdul_mef_read = fits.open(\"test_mef.fits\")\n",
    "print(hdul_mef_read.info())"
   ]
  },
  {
   "attachments": {},
   "cell_type": "markdown",
   "metadata": {},
   "source": [
    "Each extension can be accessed by either (1) index (``No.``) or (2) ``Name``."
   ]
  },
  {
   "cell_type": "code",
   "execution_count": 24,
   "metadata": {},
   "outputs": [],
   "source": [
    "np.testing.assert_allclose(hdul_mef_read[1].data, hdul_mef_read[\"SCI\"].data)"
   ]
  },
  {
   "attachments": {},
   "cell_type": "markdown",
   "metadata": {},
   "source": [
    "The ``getdata()`` or ``getheader()``, etc, allows the arguments ``ext`` and ``extname`` to select only one extension:"
   ]
  },
  {
   "cell_type": "code",
   "execution_count": 25,
   "metadata": {},
   "outputs": [],
   "source": [
    "hdul_mef_data_1 = fits.getdata(\"test_mef.fits\", ext=1)\n",
    "hdul_mef_data_2 = fits.getdata(\"test_mef.fits\", extname=\"UNCERT\")\n",
    "np.testing.assert_allclose(hdul_mef_data_1, hdul_mef_data_1 - hdul_mef_data_2)"
   ]
  },
  {
   "attachments": {},
   "cell_type": "markdown",
   "metadata": {},
   "source": [
    "Note that, ``CCDData`` understands any extension named ``'UNCERT'`` as the standard deviation uncertainty map (or simple 1-sigma error map), and reads it as ``astropy.nddata.nduncertainty.StdDevUncertainty``. Similarly, ``'MASK'`` is understood as mask. This is a reason why HST uses MEF than single-extension.\n",
    "\n",
    "You can see this in our example:"
   ]
  },
  {
   "cell_type": "code",
   "execution_count": 26,
   "metadata": {},
   "outputs": [
    {
     "name": "stdout",
     "output_type": "stream",
     "text": [
      "INFO: first HDU with data is extension 1. [astropy.nddata.ccddata]\n"
     ]
    }
   ],
   "source": [
    "test_ccd_mef_read = CCDData.read(\"test_mef.fits\", unit='adu')"
   ]
  },
  {
   "cell_type": "code",
   "execution_count": 27,
   "metadata": {},
   "outputs": [
    {
     "data": {
      "text/plain": [
       "array([[1., 1., 1., 1., 1., 1., 1., 1., 1., 1.],\n",
       "       [1., 1., 1., 1., 1., 1., 1., 1., 1., 1.],\n",
       "       [1., 1., 1., 1., 1., 1., 1., 1., 1., 1.],\n",
       "       [1., 1., 1., 1., 1., 1., 1., 1., 1., 1.],\n",
       "       [1., 1., 1., 1., 1., 1., 1., 1., 1., 1.],\n",
       "       [1., 1., 1., 1., 1., 1., 1., 1., 1., 1.],\n",
       "       [1., 1., 1., 1., 1., 1., 1., 1., 1., 1.],\n",
       "       [1., 1., 1., 1., 1., 1., 1., 1., 1., 1.],\n",
       "       [1., 1., 1., 1., 1., 1., 1., 1., 1., 1.],\n",
       "       [1., 1., 1., 1., 1., 1., 1., 1., 1., 1.]])"
      ]
     },
     "execution_count": 27,
     "metadata": {},
     "output_type": "execute_result"
    }
   ],
   "source": [
    "test_ccd_mef_read.data"
   ]
  },
  {
   "cell_type": "code",
   "execution_count": 28,
   "metadata": {},
   "outputs": [
    {
     "name": "stdout",
     "output_type": "stream",
     "text": [
      "<class 'astropy.nddata.nduncertainty.StdDevUncertainty'>\n"
     ]
    },
    {
     "data": {
      "text/plain": [
       "StdDevUncertainty([[0., 0., 0., 0., 0., 0., 0., 0., 0., 0.],\n",
       "                   [0., 0., 0., 0., 0., 0., 0., 0., 0., 0.],\n",
       "                   [0., 0., 0., 0., 0., 0., 0., 0., 0., 0.],\n",
       "                   [0., 0., 0., 0., 0., 0., 0., 0., 0., 0.],\n",
       "                   [0., 0., 0., 0., 0., 0., 0., 0., 0., 0.],\n",
       "                   [0., 0., 0., 0., 0., 0., 0., 0., 0., 0.],\n",
       "                   [0., 0., 0., 0., 0., 0., 0., 0., 0., 0.],\n",
       "                   [0., 0., 0., 0., 0., 0., 0., 0., 0., 0.],\n",
       "                   [0., 0., 0., 0., 0., 0., 0., 0., 0., 0.],\n",
       "                   [0., 0., 0., 0., 0., 0., 0., 0., 0., 0.]])"
      ]
     },
     "execution_count": 28,
     "metadata": {},
     "output_type": "execute_result"
    }
   ],
   "source": [
    "print(type(test_ccd_mef_read.uncertainty))\n",
    "test_ccd_mef_read.uncertainty"
   ]
  },
  {
   "cell_type": "code",
   "execution_count": 29,
   "metadata": {},
   "outputs": [],
   "source": [
    "tmpfitsfiles = Path('.').glob(\"test*.fits\")\n",
    "for fpath in tmpfitsfiles:\n",
    "    fpath.unlink()"
   ]
  }
 ],
 "metadata": {
  "kernelspec": {
   "display_name": "Python 3",
   "language": "python",
   "name": "python3"
  },
  "language_info": {
   "codemirror_mode": {
    "name": "ipython",
    "version": 3
   },
   "file_extension": ".py",
   "mimetype": "text/x-python",
   "name": "python",
   "nbconvert_exporter": "python",
   "pygments_lexer": "ipython3",
   "version": "3.7.3"
  },
  "varInspector": {
   "cols": {
    "lenName": 16,
    "lenType": 16,
    "lenVar": 40
   },
   "kernels_config": {
    "python": {
     "delete_cmd_postfix": "",
     "delete_cmd_prefix": "del ",
     "library": "var_list.py",
     "varRefreshCmd": "print(var_dic_list())"
    },
    "r": {
     "delete_cmd_postfix": ") ",
     "delete_cmd_prefix": "rm(",
     "library": "var_list.r",
     "varRefreshCmd": "cat(var_dic_list()) "
    }
   },
   "types_to_exclude": [
    "module",
    "function",
    "builtin_function_or_method",
    "instance",
    "_Feature"
   ],
   "window_display": false
  }
 },
 "nbformat": 4,
 "nbformat_minor": 2
}