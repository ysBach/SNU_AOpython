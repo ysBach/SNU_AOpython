{
 "cells": [
  {
   "attachments": {},
   "cell_type": "markdown",
   "metadata": {},
   "source": [
    "(ch:fits_basic)=\n",
    "# Basics about FITS\n",
    "\n",
    "This part will teach you:\n",
    "\n",
    "1. Read/write FITS files.\n",
    "2. Crop (cutout) a small region of the FITS image."
   ]
  },
  {
   "cell_type": "code",
   "execution_count": 1,
   "metadata": {},
   "outputs": [
    {
     "name": "stdout",
     "output_type": "stream",
     "text": [
      "This notebook was generated at 2023-04-19 17:51:59 (KST = GMT+0900) \n"
     ]
    },
    {
     "name": "stdout",
     "output_type": "stream",
     "text": [
      "0 Python     3.10.10 64bit [Clang 14.0.6 ]\n",
      "1 IPython    8.12.0\n",
      "2 OS         macOS 13.1 arm64 arm 64bit\n",
      "3 astropy    5.2.2\n",
      "4 numpy      1.24.2\n",
      "5 scipy      1.10.1\n",
      "6 matplotlib 3.7.1\n",
      "7 version_information 1.0.4\n"
     ]
    }
   ],
   "source": [
    "# Ignore this cell if you encounter errors\n",
    "%load_ext version_information\n",
    "import time\n",
    "now = time.strftime(\"%Y-%m-%d %H:%M:%S (%Z = GMT%z)\")\n",
    "print(f\"This notebook was generated at {now} \")\n",
    "\n",
    "vv = %version_information astropy, numpy, scipy, matplotlib, version_information\n",
    "for i, pkg in enumerate(vv.packages):\n",
    "    print(f\"{i} {pkg[0]:10s} {pkg[1]:s}\")"
   ]
  },
  {
   "cell_type": "code",
   "execution_count": 2,
   "metadata": {},
   "outputs": [],
   "source": [
    "# %matplotlib notebook\n",
    "from IPython.core.interactiveshell import InteractiveShell\n",
    "from IPython import get_ipython\n",
    "%config InlineBackend.figure_format = 'retina'\n",
    "InteractiveShell.ast_node_interactivity = 'last_expr'\n",
    "ipython = get_ipython()\n",
    "\n",
    "from pathlib import Path\n",
    "import numpy as np\n",
    "\n",
    "from astropy.io import fits\n",
    "from astropy.time import Time\n",
    "from astropy import units as u\n",
    "from astropy.nddata import CCDData\n",
    "\n",
    "from matplotlib import pyplot as plt\n",
    "from matplotlib import rcParams\n",
    "\n",
    "import ysfitsutilpy as yfu\n",
    "import ysphotutilpy as ypu\n",
    "\n",
    "plt.style.use('default')\n",
    "rcParams.update({'font.size':12})\n",
    "\n",
    "import warnings\n",
    "warnings.filterwarnings('ignore', category=UserWarning, append=True)\n",
    "\n",
    "import _tool_visualization as vis\n",
    "\n",
    "DATAPATH = Path('../../../Tutorial_Data')\n",
    "TMPDIR = Path('tmp')\n",
    "TMPDIR.mkdir(exist_ok=True)"
   ]
  },
  {
   "cell_type": "code",
   "execution_count": 3,
   "metadata": {},
   "outputs": [
    {
     "name": "stdout",
     "output_type": "stream",
     "text": [
      "Found 0 fits files in ../../../Tutorial_Data.\n"
     ]
    }
   ],
   "source": [
    "allfits = list(DATAPATH.glob(\"*p4179*.fits\"))\n",
    "allfits.sort()\n",
    "print(f\"Found {len(allfits)} fits files in {DATAPATH}.\")\n",
    "for _f in allfits:\n",
    "    print(_f)"
   ]
  },
  {
   "attachments": {},
   "cell_type": "markdown",
   "metadata": {},
   "source": [
    "## `astropy.fits`\n",
    "\n",
    "You may have already learnt `astropy.fits` package from python preperation class. Here, I will review that and introduce a little bit more. \n",
    "\n",
    "The official documentation of astropy is [here](https://astropy.readthedocs.io/en/stable/). Among those, we will learn about [``astropy.io.fits``](https://astropy.readthedocs.io/en/stable/io/fits/index.html) module, which is one of the greatest tool to handle FITS format.\n",
    "\n",
    "Some information of the terms:\n",
    "**FITS**\n",
    ": See [this](https://fits.gsfc.nasa.gov)\n",
    "\n",
    "**HDU**\n",
    ": Header Data Unit. An HDU is composed of Primary header (optionally with data) and other header & data. The simplest one contains only the primary HDU. \n",
    "\n",
    "**HDU List**\n",
    ": python ``list`` of the HDU objects\n",
    "\n",
    "**MEF**\n",
    ": Multi-Extension FITS. In some cases, more than one such HDU is present in one FITS file. That is called the MEF. MEF is not recommended unless you are clearly aware of what you are doing.\n",
    "\n",
    "**Header**\n",
    ": Contains information about the image. The most standard keywords are [here](https://heasarc.gsfc.nasa.gov/docs/fcg/standard_dict.html) and others can be found at [here](https://fits.gsfc.nasa.gov/fits_dictionary.html). Few important ones are\n",
    "* ``OBJECT``: The name of the target\n",
    "* ``DATE-OBS``: The time when the exposure started (in UT). Mostly in the format of ``YYYY-MM-DDTHH:mm:ss`` following [ISO 8601](https://en.wikipedia.org/wiki/ISO_8601), e.g., ``2019-01-02T13:01:01`` means it was taken on 2019 Jan 2nd, at 13:01:01. Sometimes (some observatories) only give YYYY-MM-DD or other unorthodox formats...\n",
    "* ``EXPTIME``: The exposure time in seconds.\n",
    "* ``NAXIS1``: The number of pixels along the axis 1 (which is the X axis). Same for ``NAXIS2``.\n",
    "* ``FILTER``: Not a standard, but widely used to show the filter (e.g., ``V`` or ``Johnson B``, etc).\n",
    "\n",
    "Some basic usages are as follows:"
   ]
  },
  {
   "cell_type": "code",
   "execution_count": 4,
   "metadata": {},
   "outputs": [],
   "source": [
    "for fpath in allfits:\n",
    "    hdul = fits.open(fpath)\n",
    "    hdul.info()"
   ]
  },
  {
   "attachments": {},
   "cell_type": "markdown",
   "metadata": {},
   "source": [
    "As can be seen, each FITS file consist of two extensions called ``PRIMARY`` and ``MASK``. \n",
    "\n",
    "```{admonition} Practice\n",
    ":class: tip\n",
    "Think about what the code lines in the following code blocks mean\n",
    "```"
   ]
  },
  {
   "cell_type": "code",
   "execution_count": 5,
   "metadata": {},
   "outputs": [
    {
     "name": "stdout",
     "output_type": "stream",
     "text": [
      "Type of hdul:\n"
     ]
    },
    {
     "ename": "NameError",
     "evalue": "name 'hdul' is not defined",
     "output_type": "error",
     "traceback": [
      "\u001b[0;31m---------------------------------------------------------------------------\u001b[0m",
      "\u001b[0;31mNameError\u001b[0m                                 Traceback (most recent call last)",
      "Cell \u001b[0;32mIn[5], line 2\u001b[0m\n\u001b[1;32m      1\u001b[0m \u001b[38;5;28mprint\u001b[39m(\u001b[38;5;124m\"\u001b[39m\u001b[38;5;124mType of hdul:\u001b[39m\u001b[38;5;124m\"\u001b[39m)\n\u001b[0;32m----> 2\u001b[0m \u001b[38;5;28mprint\u001b[39m(\u001b[38;5;28mtype\u001b[39m(\u001b[43mhdul\u001b[49m), end\u001b[38;5;241m=\u001b[39m\u001b[38;5;124m'\u001b[39m\u001b[38;5;130;01m\\n\u001b[39;00m\u001b[38;5;130;01m\\n\u001b[39;00m\u001b[38;5;124m'\u001b[39m)\n\u001b[1;32m      4\u001b[0m \u001b[38;5;28mprint\u001b[39m(\u001b[38;5;124m\"\u001b[39m\u001b[38;5;124mhdul.info():\u001b[39m\u001b[38;5;124m\"\u001b[39m)\n\u001b[1;32m      5\u001b[0m hdul\u001b[38;5;241m.\u001b[39minfo()\n",
      "\u001b[0;31mNameError\u001b[0m: name 'hdul' is not defined"
     ]
    }
   ],
   "source": [
    "print(\"Type of hdul:\")\n",
    "print(type(hdul), end='\\n\\n')\n",
    "\n",
    "print(\"hdul.info():\")\n",
    "hdul.info()"
   ]
  },
  {
   "cell_type": "code",
   "execution_count": 6,
   "metadata": {},
   "outputs": [
    {
     "name": "stdout",
     "output_type": "stream",
     "text": [
      "First 2x2 data of the 0-th element of hdul: hdul[0].data\n"
     ]
    },
    {
     "ename": "NameError",
     "evalue": "name 'hdul' is not defined",
     "output_type": "error",
     "traceback": [
      "\u001b[0;31m---------------------------------------------------------------------------\u001b[0m",
      "\u001b[0;31mNameError\u001b[0m                                 Traceback (most recent call last)",
      "Cell \u001b[0;32mIn[6], line 2\u001b[0m\n\u001b[1;32m      1\u001b[0m \u001b[38;5;28mprint\u001b[39m(\u001b[38;5;124m\"\u001b[39m\u001b[38;5;124mFirst 2x2 data of the 0-th element of hdul: hdul[0].data\u001b[39m\u001b[38;5;124m\"\u001b[39m)\n\u001b[0;32m----> 2\u001b[0m \u001b[38;5;28mprint\u001b[39m(\u001b[43mhdul\u001b[49m[\u001b[38;5;241m0\u001b[39m]\u001b[38;5;241m.\u001b[39mdata[:\u001b[38;5;241m2\u001b[39m, :\u001b[38;5;241m2\u001b[39m], end\u001b[38;5;241m=\u001b[39m\u001b[38;5;124m'\u001b[39m\u001b[38;5;130;01m\\n\u001b[39;00m\u001b[38;5;130;01m\\n\u001b[39;00m\u001b[38;5;124m'\u001b[39m)\n\u001b[1;32m      3\u001b[0m \u001b[38;5;28mprint\u001b[39m(\u001b[38;5;124m\"\u001b[39m\u001b[38;5;124mFirst 2x2 data of the 1-th element of hdul: hdul[1].data\u001b[39m\u001b[38;5;124m\"\u001b[39m)\n\u001b[1;32m      4\u001b[0m \u001b[38;5;28mprint\u001b[39m(hdul[\u001b[38;5;241m1\u001b[39m]\u001b[38;5;241m.\u001b[39mdata[:\u001b[38;5;241m2\u001b[39m, :\u001b[38;5;241m2\u001b[39m], end\u001b[38;5;241m=\u001b[39m\u001b[38;5;124m'\u001b[39m\u001b[38;5;130;01m\\n\u001b[39;00m\u001b[38;5;130;01m\\n\u001b[39;00m\u001b[38;5;124m'\u001b[39m)\n",
      "\u001b[0;31mNameError\u001b[0m: name 'hdul' is not defined"
     ]
    }
   ],
   "source": [
    "print(\"First 2x2 data of the 0-th element of hdul: hdul[0].data\")\n",
    "print(hdul[0].data[:2, :2], end='\\n\\n')\n",
    "print(\"First 2x2 data of the 1-th element of hdul: hdul[1].data\")\n",
    "print(hdul[1].data[:2, :2], end='\\n\\n')"
   ]
  },
  {
   "cell_type": "code",
   "execution_count": 7,
   "metadata": {},
   "outputs": [
    {
     "name": "stdout",
     "output_type": "stream",
     "text": [
      "First 10 header keywords for hdul[0].header\n"
     ]
    },
    {
     "ename": "NameError",
     "evalue": "name 'hdul' is not defined",
     "output_type": "error",
     "traceback": [
      "\u001b[0;31m---------------------------------------------------------------------------\u001b[0m",
      "\u001b[0;31mNameError\u001b[0m                                 Traceback (most recent call last)",
      "Cell \u001b[0;32mIn[7], line 2\u001b[0m\n\u001b[1;32m      1\u001b[0m \u001b[38;5;28mprint\u001b[39m(\u001b[38;5;124m\"\u001b[39m\u001b[38;5;124mFirst 10 header keywords for hdul[0].header\u001b[39m\u001b[38;5;124m\"\u001b[39m)\n\u001b[0;32m----> 2\u001b[0m \u001b[38;5;28mprint\u001b[39m(\u001b[38;5;28mlist\u001b[39m(\u001b[43mhdul\u001b[49m[\u001b[38;5;241m0\u001b[39m]\u001b[38;5;241m.\u001b[39mheader\u001b[38;5;241m.\u001b[39mkeys())[:\u001b[38;5;241m10\u001b[39m], end\u001b[38;5;241m=\u001b[39m\u001b[38;5;124m'\u001b[39m\u001b[38;5;130;01m\\n\u001b[39;00m\u001b[38;5;130;01m\\n\u001b[39;00m\u001b[38;5;124m'\u001b[39m)\n\u001b[1;32m      4\u001b[0m \u001b[38;5;28mprint\u001b[39m(\u001b[38;5;124m\"\u001b[39m\u001b[38;5;124mDATE-OBS (UT time of the **start** of the exposure) of hdul[0]: hdul[0].header[\u001b[39m\u001b[38;5;124m'\u001b[39m\u001b[38;5;124mDATE-OBS\u001b[39m\u001b[38;5;124m'\u001b[39m\u001b[38;5;124m]\u001b[39m\u001b[38;5;124m\"\u001b[39m)\n\u001b[1;32m      5\u001b[0m \u001b[38;5;28mprint\u001b[39m(hdul[\u001b[38;5;241m0\u001b[39m]\u001b[38;5;241m.\u001b[39mheader[\u001b[38;5;124m'\u001b[39m\u001b[38;5;124mDATE-OBS\u001b[39m\u001b[38;5;124m'\u001b[39m])\n",
      "\u001b[0;31mNameError\u001b[0m: name 'hdul' is not defined"
     ]
    }
   ],
   "source": [
    "print(\"First 10 header keywords for hdul[0].header\")\n",
    "print(list(hdul[0].header.keys())[:10], end='\\n\\n')\n",
    "\n",
    "print(\"DATE-OBS (UT time of the **start** of the exposure) of hdul[0]: hdul[0].header['DATE-OBS']\")\n",
    "print(hdul[0].header['DATE-OBS'])\n",
    "\n",
    "# Close the HDU\n",
    "hdul.close()"
   ]
  },
  {
   "attachments": {},
   "cell_type": "markdown",
   "metadata": {},
   "source": [
    "```{admonition} Practice\n",
    ":class: tip\n",
    "On the terminal, type \n",
    "\n",
    "    fitsinfo 20180413SAAO_p4179_010449.fits \n",
    "\n",
    "at the directory where it is stored. Also try \n",
    "    \n",
    "    fitsheader 20180413SAAO_p4179_010449.fits[0]\n",
    "\n",
    "and compare the results from the following code block's result.\n",
    "```\n",
    "\n",
    "```{admonition} Practice\n",
    ":class: tip\n",
    "On the terminal, type \n",
    "\n",
    "    ds9 -zscale 20180413SAAO_p4179_010449.fits[2] & \n",
    "\n",
    "Confirm that this image is different from \n",
    "\n",
    "    ds9 -zscale 20180413SAAO_p4179_010449.fits & \n",
    "\n",
    "The rectangular bracket ``[i]`` shows the i-th extension data. If not given, ds9 shows the very first extension which contains data.\n",
    "```"
   ]
  },
  {
   "attachments": {},
   "cell_type": "markdown",
   "metadata": {},
   "source": [
    "Example of header:"
   ]
  },
  {
   "cell_type": "code",
   "execution_count": 8,
   "metadata": {},
   "outputs": [
    {
     "ename": "NameError",
     "evalue": "name 'hdul' is not defined",
     "output_type": "error",
     "traceback": [
      "\u001b[0;31m---------------------------------------------------------------------------\u001b[0m",
      "\u001b[0;31mNameError\u001b[0m                                 Traceback (most recent call last)",
      "Cell \u001b[0;32mIn[8], line 1\u001b[0m\n\u001b[0;32m----> 1\u001b[0m \u001b[43mhdul\u001b[49m[\u001b[38;5;241m0\u001b[39m]\u001b[38;5;241m.\u001b[39mheader[:\u001b[38;5;241m20\u001b[39m]\n",
      "\u001b[0;31mNameError\u001b[0m: name 'hdul' is not defined"
     ]
    }
   ],
   "source": [
    "hdul[0].header[:20]"
   ]
  },
  {
   "attachments": {},
   "cell_type": "markdown",
   "metadata": {},
   "source": [
    "**Example**\n",
    ": As a practice, let's calculate the mid-observation time. The middle of the observation is, of course, **start time + exposure time / 2**. To calculate this, you can use the following astropy functionalities:\n",
    "* [``astropy.time`` module](http://docs.astropy.org/en/stable/time/)\n",
    "* [``astropy.units`` module](http://docs.astropy.org/en/stable/units/)"
   ]
  },
  {
   "cell_type": "code",
   "execution_count": 9,
   "metadata": {},
   "outputs": [
    {
     "ename": "NameError",
     "evalue": "name 'hdul' is not defined",
     "output_type": "error",
     "traceback": [
      "\u001b[0;31m---------------------------------------------------------------------------\u001b[0m",
      "\u001b[0;31mNameError\u001b[0m                                 Traceback (most recent call last)",
      "Cell \u001b[0;32mIn[9], line 1\u001b[0m\n\u001b[0;32m----> 1\u001b[0m obst \u001b[38;5;241m=\u001b[39m Time(\u001b[43mhdul\u001b[49m[\u001b[38;5;241m0\u001b[39m]\u001b[38;5;241m.\u001b[39mheader[\u001b[38;5;124m\"\u001b[39m\u001b[38;5;124mDATE-OBS\u001b[39m\u001b[38;5;124m\"\u001b[39m])\n\u001b[1;32m      2\u001b[0m expt \u001b[38;5;241m=\u001b[39m hdul[\u001b[38;5;241m0\u001b[39m]\u001b[38;5;241m.\u001b[39mheader[\u001b[38;5;124m\"\u001b[39m\u001b[38;5;124mEXPTIME\u001b[39m\u001b[38;5;124m\"\u001b[39m] \u001b[38;5;241m*\u001b[39m u\u001b[38;5;241m.\u001b[39ms\n\u001b[1;32m      3\u001b[0m \u001b[38;5;28mprint\u001b[39m(\u001b[38;5;124m\"\u001b[39m\u001b[38;5;124mThe start of the observation time is  :\u001b[39m\u001b[38;5;124m\"\u001b[39m, obst)\n",
      "\u001b[0;31mNameError\u001b[0m: name 'hdul' is not defined"
     ]
    }
   ],
   "source": [
    "obst = Time(hdul[0].header[\"DATE-OBS\"])\n",
    "expt = hdul[0].header[\"EXPTIME\"] * u.s\n",
    "print(\"The start of the observation time is  :\", obst)\n",
    "print(\"The middle of the observation time is :\", obst + expt/2)\n",
    "print(\"The end of the observation time is    :\", obst + expt)"
   ]
  },
  {
   "attachments": {},
   "cell_type": "markdown",
   "metadata": {},
   "source": [
    "## Displaying Data\n",
    "\n",
    "Using the ``norm_imshow`` defined in our tool, you can display image as ZScale in SAO DS9:\n",
    "\n",
    "```python\n",
    "from astropy.visualization import (ImageNormalize, LinearStretch, ZScaleInterval)\n",
    "\n",
    "def znorm(image, stretch=LinearStretch(), **kwargs):\n",
    "    return ImageNormalize(image, interval=ZScaleInterval(**kwargs), stretch=stretch)\n",
    "\n",
    "\n",
    "def zimshow(ax, image, stretch=LinearStretch(), cmap=None,\n",
    "            origin=\"lower\", zscale_kw={}, **kwargs):\n",
    "    im = ax.imshow(image, norm=znorm(image, stretch=stretch, **zscale_kw),\n",
    "                   origin=origin, cmap=cmap, **kwargs)\n",
    "    return im\n",
    "\n",
    "\n",
    "def norm_imshow(ax, data,origin=\"lower\",stretch=\"linear\", power=1.0, \n",
    "                asinh_a=0.1, min_cut=None, max_cut=None, min_percent=None, \n",
    "                max_percent=None, percent=None, clip=True, log_a=1000, \n",
    "                invalid=-1.0, zscale=False, vmin=None, vmax=None, **kwargs):\n",
    "    \"\"\"Do normalization and do imshow\"\"\"\n",
    "    if zscale:\n",
    "        zs = ImageNormalize(data, interval=ZScaleInterval())\n",
    "        min_cut = vmin = zs.vmin\n",
    "        max_cut = vmax = zs.vmax\n",
    "\n",
    "    if vmin is not None or vmax is not None:\n",
    "        im = ax.imshow(data, origin=origin, vmin=vmin, vmax=vmax, **kwargs)\n",
    "    else:\n",
    "        im = ax.imshow(\n",
    "            data, origin=origin,\n",
    "            norm=simple_norm(data=data, stretch=stretch, power=power, \n",
    "                             asinh_a=asinh_a, min_cut=min_cut, max_cut=max_cut, \n",
    "                             min_percent=min_percent, max_percent=max_percent, \n",
    "                             percent=percent, clip=clip, log_a=log_a, \n",
    "                             invalid=invalid),\n",
    "            **kwargs)\n",
    "    return im\n",
    "```"
   ]
  },
  {
   "cell_type": "code",
   "execution_count": 10,
   "metadata": {},
   "outputs": [
    {
     "ename": "IndexError",
     "evalue": "list index out of range",
     "output_type": "error",
     "traceback": [
      "\u001b[0;31m---------------------------------------------------------------------------\u001b[0m",
      "\u001b[0;31mIndexError\u001b[0m                                Traceback (most recent call last)",
      "Cell \u001b[0;32mIn[10], line 1\u001b[0m\n\u001b[0;32m----> 1\u001b[0m hdul \u001b[38;5;241m=\u001b[39m fits\u001b[38;5;241m.\u001b[39mopen(\u001b[43mallfits\u001b[49m\u001b[43m[\u001b[49m\u001b[38;5;241;43m0\u001b[39;49m\u001b[43m]\u001b[49m)\n\u001b[1;32m      3\u001b[0m fig, axs \u001b[38;5;241m=\u001b[39m plt\u001b[38;5;241m.\u001b[39msubplots(\u001b[38;5;241m1\u001b[39m, \u001b[38;5;241m1\u001b[39m, figsize\u001b[38;5;241m=\u001b[39m(\u001b[38;5;241m4\u001b[39m, \u001b[38;5;241m3\u001b[39m), sharex\u001b[38;5;241m=\u001b[39m\u001b[38;5;28;01mFalse\u001b[39;00m, sharey\u001b[38;5;241m=\u001b[39m\u001b[38;5;28;01mFalse\u001b[39;00m, gridspec_kw\u001b[38;5;241m=\u001b[39m\u001b[38;5;28;01mNone\u001b[39;00m)\n\u001b[1;32m      4\u001b[0m vis\u001b[38;5;241m.\u001b[39mnorm_imshow(axs, hdul[\u001b[38;5;241m0\u001b[39m]\u001b[38;5;241m.\u001b[39mdata, zscale\u001b[38;5;241m=\u001b[39m\u001b[38;5;28;01mTrue\u001b[39;00m)\n",
      "\u001b[0;31mIndexError\u001b[0m: list index out of range"
     ]
    }
   ],
   "source": [
    "hdul = fits.open(allfits[0])\n",
    "\n",
    "fig, axs = plt.subplots(1, 1, figsize=(4, 3), sharex=False, sharey=False, gridspec_kw=None)\n",
    "vis.norm_imshow(axs, hdul[0].data, zscale=True)\n",
    "plt.tight_layout()"
   ]
  },
  {
   "attachments": {},
   "cell_type": "markdown",
   "metadata": {},
   "source": [
    "This itself is of course inferior to ``ds9`` and ``ginga``, because we cannot do much interactive works.\n",
    "\n",
    "```{tip} \n",
    ":class: tip\n",
    "If you want to use interactive Jupyter, do ``%matplotlib notebook`` or ``%matplotlib widget`` for Jypyter notebook and Jupyter-lab, respectively. Search for the Internet for details.\n",
    "```"
   ]
  },
  {
   "attachments": {},
   "cell_type": "markdown",
   "metadata": {},
   "source": [
    "## Making New FITS and Saving\n",
    "\n",
    "Consider, for some reason, you cropped the data and take a square-root, and want to save this as a FITS file. There are few ways to do this:\n",
    "1. The most primitive way is to use python indexing to select some region, convert it to `astropy.fits.PrimaryHDU` object and save it.\n",
    "2. A better way is to use some pre-made functions. \n",
    "    1. Such as `astropy.nddata.CutOut2D`. Unfortunately, however, they do not automatically update header.\n",
    "    2. "
   ]
  },
  {
   "attachments": {},
   "cell_type": "markdown",
   "metadata": {},
   "source": [
    "### Using Numpy Slicing"
   ]
  },
  {
   "cell_type": "code",
   "execution_count": 11,
   "metadata": {},
   "outputs": [
    {
     "ename": "IndexError",
     "evalue": "list index out of range",
     "output_type": "error",
     "traceback": [
      "\u001b[0;31m---------------------------------------------------------------------------\u001b[0m",
      "\u001b[0;31mIndexError\u001b[0m                                Traceback (most recent call last)",
      "Cell \u001b[0;32mIn[11], line 1\u001b[0m\n\u001b[0;32m----> 1\u001b[0m hdul \u001b[38;5;241m=\u001b[39m fits\u001b[38;5;241m.\u001b[39mopen(\u001b[43mallfits\u001b[49m\u001b[43m[\u001b[49m\u001b[38;5;241;43m0\u001b[39;49m\u001b[43m]\u001b[49m)\n\u001b[1;32m      2\u001b[0m data \u001b[38;5;241m=\u001b[39m hdul[\u001b[38;5;241m0\u001b[39m]\u001b[38;5;241m.\u001b[39mdata\n\u001b[1;32m      3\u001b[0m newdata \u001b[38;5;241m=\u001b[39m np\u001b[38;5;241m.\u001b[39msqrt(data[\u001b[38;5;241m300\u001b[39m:\u001b[38;5;241m400\u001b[39m, \u001b[38;5;241m650\u001b[39m:\u001b[38;5;241m750\u001b[39m])\n",
      "\u001b[0;31mIndexError\u001b[0m: list index out of range"
     ]
    }
   ],
   "source": [
    "hdul = fits.open(allfits[0])\n",
    "data = hdul[0].data\n",
    "newdata = np.sqrt(data[300:400, 650:750])\n",
    "print(newdata.shape)\n",
    "\n",
    "fig, axs = plt.subplots(1, 2, figsize=(5, 3), sharex=False, sharey=False, gridspec_kw=None)\n",
    "vis.norm_imshow(axs[0], newdata, zscale=True)\n",
    "vis.norm_imshow(axs[1], newdata, zscale=False, stretch='sqrt')\n",
    "\n",
    "plt.tight_layout()"
   ]
  },
  {
   "attachments": {},
   "cell_type": "markdown",
   "metadata": {},
   "source": [
    "Note that ``[300:400, 650:750]`` will select 100x100 pixels.\n",
    "\n",
    "Once you are happy, you can save it by the following code:"
   ]
  },
  {
   "cell_type": "code",
   "execution_count": 12,
   "metadata": {},
   "outputs": [
    {
     "ename": "NameError",
     "evalue": "name 'newdata' is not defined",
     "output_type": "error",
     "traceback": [
      "\u001b[0;31m---------------------------------------------------------------------------\u001b[0m",
      "\u001b[0;31mNameError\u001b[0m                                 Traceback (most recent call last)",
      "Cell \u001b[0;32mIn[12], line 1\u001b[0m\n\u001b[0;32m----> 1\u001b[0m newhdu \u001b[38;5;241m=\u001b[39m fits\u001b[38;5;241m.\u001b[39mPrimaryHDU(data\u001b[38;5;241m=\u001b[39m\u001b[43mnewdata\u001b[49m, header\u001b[38;5;241m=\u001b[39mhdul[\u001b[38;5;241m0\u001b[39m]\u001b[38;5;241m.\u001b[39mheader)\n\u001b[1;32m      2\u001b[0m newhdu\u001b[38;5;241m.\u001b[39mwriteto(Path(\u001b[38;5;124m\"\u001b[39m\u001b[38;5;124mtmp\u001b[39m\u001b[38;5;124m\"\u001b[39m) \u001b[38;5;241m/\u001b[39m \u001b[38;5;124m\"\u001b[39m\u001b[38;5;124mtest.fits\u001b[39m\u001b[38;5;124m\"\u001b[39m, overwrite\u001b[38;5;241m=\u001b[39m\u001b[38;5;28;01mTrue\u001b[39;00m, output_verify\u001b[38;5;241m=\u001b[39m\u001b[38;5;124m'\u001b[39m\u001b[38;5;124mfix\u001b[39m\u001b[38;5;124m'\u001b[39m)\n",
      "\u001b[0;31mNameError\u001b[0m: name 'newdata' is not defined"
     ]
    }
   ],
   "source": [
    "newhdu = fits.PrimaryHDU(data=newdata, header=hdul[0].header)\n",
    "newhdu.writeto(Path(\"tmp\") / \"test.fits\", overwrite=True, output_verify='fix')"
   ]
  },
  {
   "attachments": {},
   "cell_type": "markdown",
   "metadata": {},
   "source": [
    "For the options when writing with `.writeto`, refer to [the official document](https://astropy.readthedocs.io/en/stable/io/fits/api/files.html#astropy.io.fits.writeto)).\n",
    "\n",
    "```{admonition} Notes on Python numpy axis\n",
    ":class: dropdown, tip\n",
    "Python array has the axis orientation shown below. \n",
    "* Example: ``(x, y) = (2, 3)`` in ``data`` (the pixel at 2nd column 3rd row)  must be accessed by ``data[2, 1]`` (xy swapped, decrease by 1)\n",
    "* Python slice contains the beginning index, but excludes the last index (``data[:3, 0]`` will result in ``[data[0, 0], data[1, 0], data[2, 0]]``, but **NOT** ``data[3, 0]``). Therefore, ``(x, y) = (2~3, 4~7)`` (the 2 x 4 pixels at 2nd-3rd columns & 4th-7th rows) must be accessed by ``data[3:7, 1:3]``. \n",
    "* **TIP**: So you may reach a general formula. To select ``(x, y) = (x1~x2, y1~y2)``, you have to use ``data[y1-1:y2, x1-1:x2]``.\n",
    "\n",
    "\n",
    "![](https://fgnt.github.io/python_crashkurs_doc/_images/numpy_array_t.png)\n",
    "▲ Note the axes order and indexing for 2-D array\n",
    "```\n"
   ]
  },
  {
   "attachments": {},
   "cell_type": "markdown",
   "metadata": {},
   "source": [
    "### Using `astropy.nddata.Cutout2D`\n",
    "Tutorials on this module can be found at the official documentation on [image utilities](https://docs.astropy.org/en/stable/nddata/utils.html). Also [the official doc](https://docs.astropy.org/en/stable/api/astropy.nddata.Cutout2D.html). \n",
    "\n",
    "```python\n",
    "class astropy.nddata.Cutout2D(\n",
    "    data, position, size, wcs=None, mode='trim', fill_value=nan, copy=False\n",
    ")\n",
    "```\n",
    "\n",
    "`Cutout2D` is not easy to deal with --- it is not a `CCDData` nor `HDU`-like type. Thus, I made a simple function to convert it to `CCDData`."
   ]
  },
  {
   "cell_type": "code",
   "execution_count": 13,
   "metadata": {},
   "outputs": [
    {
     "ename": "IndexError",
     "evalue": "list index out of range",
     "output_type": "error",
     "traceback": [
      "\u001b[0;31m---------------------------------------------------------------------------\u001b[0m",
      "\u001b[0;31mIndexError\u001b[0m                                Traceback (most recent call last)",
      "Cell \u001b[0;32mIn[13], line 25\u001b[0m\n\u001b[1;32m     20\u001b[0m     nccd\u001b[38;5;241m.\u001b[39mheader[\u001b[38;5;124m\"\u001b[39m\u001b[38;5;124mLTV2\u001b[39m\u001b[38;5;124m\"\u001b[39m] \u001b[38;5;241m=\u001b[39m nccd\u001b[38;5;241m.\u001b[39mheader\u001b[38;5;241m.\u001b[39mget(\u001b[38;5;124m\"\u001b[39m\u001b[38;5;124mLTV2\u001b[39m\u001b[38;5;124m\"\u001b[39m, \u001b[38;5;241m0\u001b[39m) \u001b[38;5;241m-\u001b[39m cutout\u001b[38;5;241m.\u001b[39morigin_original[\u001b[38;5;241m1\u001b[39m]\n\u001b[1;32m     22\u001b[0m     \u001b[38;5;28;01mreturn\u001b[39;00m nccd\n\u001b[0;32m---> 25\u001b[0m ccd \u001b[38;5;241m=\u001b[39m CCDData\u001b[38;5;241m.\u001b[39mread(\u001b[43mallfits\u001b[49m\u001b[43m[\u001b[49m\u001b[38;5;241;43m0\u001b[39;49m\u001b[43m]\u001b[49m)\n\u001b[1;32m     26\u001b[0m cut \u001b[38;5;241m=\u001b[39m cut_ccd(ccd, position\u001b[38;5;241m=\u001b[39m(\u001b[38;5;241m700\u001b[39m, \u001b[38;5;241m350\u001b[39m), size\u001b[38;5;241m=\u001b[39m(\u001b[38;5;241m100\u001b[39m, \u001b[38;5;241m100\u001b[39m))\n\u001b[1;32m     27\u001b[0m \u001b[38;5;28mprint\u001b[39m(cut\u001b[38;5;241m.\u001b[39mshape)\n",
      "\u001b[0;31mIndexError\u001b[0m: list index out of range"
     ]
    }
   ],
   "source": [
    "from astropy.nddata import Cutout2D\n",
    "from astropy.wcs import WCS\n",
    "\n",
    "\n",
    "def cut_ccd(ccd, position, size, mode=\"trim\", fill_value=np.nan, warnings=True):\n",
    "    \"\"\" Converts the Cutout2D object to proper CCDData.\"\"\"\n",
    "    cutout = Cutout2D(\n",
    "        data=ccd.data, position=position, size=size,\n",
    "        wcs=getattr(ccd, \"wcs\", WCS(ccd.header)),\n",
    "        mode=mode, fill_value=fill_value, copy=True,\n",
    "    )\n",
    "    # Copy True just to avoid any contamination to the original ccd.\n",
    "\n",
    "    nccd = CCDData(data=cutout.data, header=ccd.header.copy(),\n",
    "                   wcs=cutout.wcs, unit=ccd.unit)\n",
    "    ny, nx = nccd.data.shape\n",
    "    nccd.header[\"NAXIS1\"] = nx\n",
    "    nccd.header[\"NAXIS2\"] = ny\n",
    "    nccd.header[\"LTV1\"] = nccd.header.get(\"LTV1\", 0) - cutout.origin_original[0]\n",
    "    nccd.header[\"LTV2\"] = nccd.header.get(\"LTV2\", 0) - cutout.origin_original[1]\n",
    "\n",
    "    return nccd\n",
    "\n",
    "\n",
    "ccd = CCDData.read(allfits[0])\n",
    "cut = cut_ccd(ccd, position=(700, 350), size=(100, 100))\n",
    "print(cut.shape)\n",
    "cut.data = np.sqrt(cut.data)\n",
    "\n",
    "fig, axs = plt.subplots(1, 2, figsize=(5, 3), sharex=False, sharey=False, gridspec_kw=None)\n",
    "vis.norm_imshow(axs[0], cut.data, zscale=True)\n",
    "vis.norm_imshow(axs[1], cut.data, zscale=False, stretch='sqrt')\n",
    "plt.tight_layout()"
   ]
  },
  {
   "attachments": {},
   "cell_type": "markdown",
   "metadata": {},
   "source": [
    "Because `cut` is now `CCDData`, you may use `.write` method:"
   ]
  },
  {
   "cell_type": "code",
   "execution_count": 14,
   "metadata": {},
   "outputs": [
    {
     "ename": "NameError",
     "evalue": "name 'cut' is not defined",
     "output_type": "error",
     "traceback": [
      "\u001b[0;31m---------------------------------------------------------------------------\u001b[0m",
      "\u001b[0;31mNameError\u001b[0m                                 Traceback (most recent call last)",
      "Cell \u001b[0;32mIn[14], line 1\u001b[0m\n\u001b[0;32m----> 1\u001b[0m \u001b[43mcut\u001b[49m\u001b[38;5;241m.\u001b[39mwrite(Path(\u001b[38;5;124m\"\u001b[39m\u001b[38;5;124mtmp\u001b[39m\u001b[38;5;124m\"\u001b[39m) \u001b[38;5;241m/\u001b[39m \u001b[38;5;124m\"\u001b[39m\u001b[38;5;124mtest.fits\u001b[39m\u001b[38;5;124m\"\u001b[39m, overwrite\u001b[38;5;241m=\u001b[39m\u001b[38;5;28;01mTrue\u001b[39;00m, output_verify\u001b[38;5;241m=\u001b[39m\u001b[38;5;124m'\u001b[39m\u001b[38;5;124mfix\u001b[39m\u001b[38;5;124m'\u001b[39m)\n",
      "\u001b[0;31mNameError\u001b[0m: name 'cut' is not defined"
     ]
    }
   ],
   "source": [
    "cut.write(Path(\"tmp\") / \"test.fits\", overwrite=True, output_verify='fix')"
   ]
  },
  {
   "attachments": {},
   "cell_type": "markdown",
   "metadata": {},
   "source": [
    "### IRAF-like Slicing\n",
    "In IRAF, there is a task named [``IMCOPY``](https://iraf.readthedocs.io/en/latest/tasks/images/imutil/imcopy.html).\n",
    "\n",
    "I made two similar functions:\n",
    "\n",
    "```python\n",
    "ysfitsutilpy.imslice(ccd, trimsec, fill_value=None, order_xyz=True,\n",
    "                     update_header=True, verbose=False)\n",
    "```\n",
    "\n",
    "and \n",
    "\n",
    "```python\n",
    "ysfitsutilpy.imcopy(inputs, trimsecs=None, outputs=None, extension=None,\n",
    "                    return_ccd=True, dtype=None, update_header=True, **kwargs)\n",
    "```\n",
    "\n",
    "``imslice`` is the most basic, pythonic way of slicing a part of %he image based on ``trimsec``. ``trimsec`` can be one of\n",
    "\n",
    "* `str`: The FITS convention section to trim (e.g., IRAF TRIMSEC).\n",
    "* `[list of] int`: The number of pixels to trim from the edge of the image (bezel). If list, it must be [bezel_lower, bezel_upper].\n",
    "* `[list of] slice`: The slice of each axis (`slice(start, stop, step)`)\n",
    "\n",
    "``imcopy`` is basically a copycat of IRAF, and it uses ``imslice`` under the hood, so you may just stick to ``imslice`` unless you have specific reasons. It accepts the [list of] file name[s] or CCDData."
   ]
  },
  {
   "cell_type": "code",
   "execution_count": 15,
   "metadata": {},
   "outputs": [
    {
     "ename": "IndexError",
     "evalue": "list index out of range",
     "output_type": "error",
     "traceback": [
      "\u001b[0;31m---------------------------------------------------------------------------\u001b[0m",
      "\u001b[0;31mIndexError\u001b[0m                                Traceback (most recent call last)",
      "Cell \u001b[0;32mIn[15], line 1\u001b[0m\n\u001b[0;32m----> 1\u001b[0m ccd \u001b[38;5;241m=\u001b[39m CCDData\u001b[38;5;241m.\u001b[39mread(\u001b[43mallfits\u001b[49m\u001b[43m[\u001b[49m\u001b[38;5;241;43m0\u001b[39;49m\u001b[43m]\u001b[49m)\n\u001b[1;32m      2\u001b[0m cut \u001b[38;5;241m=\u001b[39m yfu\u001b[38;5;241m.\u001b[39mimslice(ccd, trimsec\u001b[38;5;241m=\u001b[39m\u001b[38;5;124m\"\u001b[39m\u001b[38;5;124m[650:749, 300:399]\u001b[39m\u001b[38;5;124m\"\u001b[39m)\n\u001b[1;32m      3\u001b[0m \u001b[38;5;28mprint\u001b[39m(cut\u001b[38;5;241m.\u001b[39mshape)\n",
      "\u001b[0;31mIndexError\u001b[0m: list index out of range"
     ]
    }
   ],
   "source": [
    "ccd = CCDData.read(allfits[0])\n",
    "cut = yfu.imslice(ccd, trimsec=\"[650:749, 300:399]\")\n",
    "print(cut.shape)\n",
    "cut.data = np.sqrt(cut.data)\n",
    "\n",
    "fig, axs = plt.subplots(1, 2, figsize=(5, 3), sharex=False, sharey=False, gridspec_kw=None)\n",
    "vis.norm_imshow(axs[0], cut.data, zscale=True)\n",
    "vis.norm_imshow(axs[1], cut.data, zscale=False, stretch='sqrt')\n",
    "plt.tight_layout()"
   ]
  },
  {
   "attachments": {},
   "cell_type": "markdown",
   "metadata": {},
   "source": [
    "Note than you had to use 749 and 399 instead of 750 and 400. This is because the traditional FITS section (IRAF section) is 1-indexing, and includes the last number. For example, to select the first pixel, python would use ``[0:1, 0:1]`` while traditional IRAF would use ``[1:1, 1:1]``.\n",
    "\n",
    "There is a tool to convert IRAF-like section into python, but not the inverse."
   ]
  },
  {
   "cell_type": "code",
   "execution_count": 16,
   "metadata": {},
   "outputs": [
    {
     "data": {
      "text/plain": [
       "array([[ 0,  1,  2],\n",
       "       [10, 11, 12],\n",
       "       [20, 21, 22],\n",
       "       [30, 31, 32]])"
      ]
     },
     "execution_count": 16,
     "metadata": {},
     "output_type": "execute_result"
    }
   ],
   "source": [
    "import astro_ndslice as nds\n",
    "arr2d = np.arange(100).reshape(10,10)\n",
    "a_slice = nds.slice_from_string('[1:3, 1:4]', fits_convention=True)\n",
    "arr2d[a_slice]"
   ]
  },
  {
   "cell_type": "code",
   "execution_count": 17,
   "metadata": {},
   "outputs": [
    {
     "data": {
      "text/plain": [
       "array([[ 0,  2,  4,  6,  8],\n",
       "       [10, 12, 14, 16, 18],\n",
       "       [20, 22, 24, 26, 28],\n",
       "       [30, 32, 34, 36, 38]])"
      ]
     },
     "execution_count": 17,
     "metadata": {},
     "output_type": "execute_result"
    }
   ],
   "source": [
    "a_slice = nds.slice_from_string('[1:10:2, 1:4]', fits_convention=True)\n",
    "arr2d[a_slice]"
   ]
  }
 ],
 "metadata": {
  "kernelspec": {
   "display_name": "base",
   "language": "python",
   "name": "python3"
  },
  "language_info": {
   "codemirror_mode": {
    "name": "ipython",
    "version": 3
   },
   "file_extension": ".py",
   "mimetype": "text/x-python",
   "name": "python",
   "nbconvert_exporter": "python",
   "pygments_lexer": "ipython3",
   "version": "3.10.10"
  }
 },
 "nbformat": 4,
 "nbformat_minor": 2
}