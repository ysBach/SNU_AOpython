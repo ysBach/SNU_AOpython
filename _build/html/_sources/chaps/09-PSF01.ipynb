{
 "cells": [
  {
   "attachments": {},
   "cell_type": "markdown",
   "metadata": {},
   "source": [
    "(ch:psf01)=\n",
    "# PSF Extraction\n",
    "From the theory lecture, you learned PSF (point spread function) is the shape of the point source in your detector, after passing through all the optics. It includes the diffraction pattern, seeing (natural + telescope), etc. For space telescopes, PSF will be very stable because both the seeing sources will be negligible (if thermal expansion is well suppressed). Only the gradual change due to the degradation of the optics maybe important (or some dramatic changes by dust impact). \n",
    "\n",
    "In reality, it is practically impossible to know the PSF a priori for ground-based observations, because both the seeing factors are chaotic and impossible to predict. Also, there is absolutely no guarantee that the PSF will be the same for the consecutive images (although you may include slowly varying term over time, as in [Stetson (1987)](https://ui.adsabs.harvard.edu/abs/1987PASP...99..191S/abstract)) Thus, one must rely on empirical estimation of the PSF of the given image. "
   ]
  },
  {
   "cell_type": "markdown",
   "metadata": {},
   "source": []
  }
 ],
 "metadata": {
  "language_info": {
   "name": "python"
  },
  "orig_nbformat": 4
 },
 "nbformat": 4,
 "nbformat_minor": 2
}
