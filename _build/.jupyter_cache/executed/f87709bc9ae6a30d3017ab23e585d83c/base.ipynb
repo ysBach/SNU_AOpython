{
 "cells": [
  {
   "cell_type": "code",
   "execution_count": 1,
   "metadata": {},
   "outputs": [
    {
     "name": "stdout",
     "output_type": "stream",
     "text": [
      "This notebook was generated at 2023-04-27 14:09:21 (KST = GMT+0900) \n"
     ]
    },
    {
     "name": "stdout",
     "output_type": "stream",
     "text": [
      "0 Python     3.10.10 64bit [Clang 14.0.6 ]\n",
      "1 IPython    8.7.0\n",
      "2 OS         macOS 13.1 arm64 arm 64bit\n",
      "3 astropy    5.2.2\n",
      "4 numpy      1.23.2\n",
      "5 scipy      1.10.1\n",
      "6 matplotlib 3.7.1\n",
      "7 astroquery 0.4.7.dev8438\n",
      "8 photutils  1.6.1.dev103+gad22185f\n",
      "9 version_information 1.0.4\n"
     ]
    }
   ],
   "source": [
    "%load_ext version_information\n",
    "import time\n",
    "now = time.strftime(\"%Y-%m-%d %H:%M:%S (%Z = GMT%z)\")\n",
    "print(f\"This notebook was generated at {now} \")\n",
    "\n",
    "vv = %version_information astropy, numpy, scipy, matplotlib, astroquery, photutils, version_information\n",
    "for i, pkg in enumerate(vv.packages):\n",
    "    print(f\"{i} {pkg[0]:10s} {pkg[1]:s}\")"
   ]
  },
  {
   "cell_type": "code",
   "execution_count": 2,
   "metadata": {},
   "outputs": [
    {
     "name": "stderr",
     "output_type": "stream",
     "text": [
      "WARNING: FITSFixedWarning: RADECSYS= 'ICRS ' / Telescope Coordinate System \n",
      "the RADECSYS keyword is deprecated, use RADESYSa. [astropy.wcs.wcs]\n"
     ]
    }
   ],
   "source": [
    "# %matplotlib notebook\n",
    "from IPython.core.interactiveshell import InteractiveShell\n",
    "from IPython import get_ipython\n",
    "%config InlineBackend.figure_format = 'retina'\n",
    "InteractiveShell.ast_node_interactivity = 'last_expr'\n",
    "ipython = get_ipython()\n",
    "\n",
    "from pathlib import Path\n",
    "\n",
    "import numpy as np\n",
    "\n",
    "from astropy import units as u\n",
    "from astropy.nddata import CCDData\n",
    "from astropy.coordinates import SkyCoord\n",
    "\n",
    "from astroquery.mast import Catalogs\n",
    "\n",
    "import ysfitsutilpy as yfu\n",
    "import ysphotutilpy as ypu\n",
    "\n",
    "from matplotlib import pyplot as plt\n",
    "from matplotlib import rcParams\n",
    "plt.style.use('default')\n",
    "rcParams.update({'font.size':12})\n",
    "\n",
    "from photutils.aperture import (CircularAperture, CircularAnnulus, \n",
    "                                aperture_photometry, ApertureStats)\n",
    "from photutils.detection import DAOStarFinder\n",
    "\n",
    "import warnings\n",
    "warnings.filterwarnings('ignore', category=UserWarning, append=True)\n",
    "\n",
    "import _tool_visualization as vis\n",
    "\n",
    "DATAPATH = Path('../../Tutorial_Data')\n",
    "TMPDIR = Path('tmp')\n",
    "TMPDIR.mkdir(exist_ok=True)\n",
    "\n",
    "allfits = list(DATAPATH.glob(\"*p4179*.fits\"))\n",
    "allfits.sort()\n",
    "\n",
    "ccd = CCDData.read(allfits[0])"
   ]
  },
  {
   "cell_type": "code",
   "execution_count": 3,
   "metadata": {},
   "outputs": [
    {
     "name": "stdout",
     "output_type": "stream",
     "text": [
      "Total 126 stars from PS1 DR2\n"
     ]
    }
   ],
   "source": [
    "pix_scale = 0.4*u.arcsec\n",
    "center_xy = np.array(ccd.shape)/2\n",
    "center_radec = ccd.wcs.wcs_pix2world(*center_xy, 0)\n",
    "center_coo = SkyCoord(*center_radec, unit='deg')\n",
    "fov_radius = np.sqrt((np.array(ccd.shape)**2).sum())/2 * pix_scale\n",
    "q_ps = Catalogs.query_region(center_coo, radius=fov_radius, catalog=\"Panstarrs\", \n",
    "                             data_release=\"dr2\", table=\"mean\")\n",
    "# Change some column names for convenience.\n",
    "q_ps[\"raMean\"].name = \"ra\"\n",
    "q_ps[\"decMean\"].name = \"dec\"\n",
    "q_ps[\"gMeanPSFMag\"].name = \"g\"\n",
    "q_ps[\"rMeanPSFMag\"].name = \"r\"\n",
    "\n",
    "# drop stars with unknown magnitudes\n",
    "q_ps = q_ps.to_pandas().dropna(subset=[\"g\", \"r\"])\n",
    "\n",
    "# Calculate V and R\n",
    "q_ps[\"V\"] = 0.006 + 0.474*q_ps[\"g\"] + 0.526*q_ps[\"r\"]\n",
    "q_ps[\"R\"] = -0.138 - 0.131*q_ps[\"g\"] + 1.131*q_ps[\"r\"]\n",
    "q_ps[\"dV\"] = np.sqrt(\n",
    "    0.474**2*q_ps[\"gMeanPSFMagErr\"]**2 \n",
    "    + 0.526**2*q_ps[\"rMeanPSFMagErr\"]**2 + 0.012**2\n",
    ")\n",
    "q_ps[\"dR\"] = np.sqrt(\n",
    "    0.131**2*q_ps[\"gMeanPSFMagErr\"]**2\n",
    "    + 1.131**2*q_ps[\"rMeanPSFMagErr\"]**2 + 0.015**2\n",
    ")\n",
    "\n",
    "# Select only important columns\n",
    "q2 = q_ps[[\"ra\", \"dec\", \"g\", \"r\", \"V\", \"R\", \"dV\", \"dR\"]].copy().reset_index(drop=True)\n",
    "\n",
    "# Select only brighter than 22 mag\n",
    "q2 = q2[(q2[\"V\"] < 22) & (q2[\"R\"] < 22)].copy().reset_index(drop=True)\n",
    "\n",
    "# Calculate x, y position\n",
    "coo = SkyCoord(q2[\"ra\"], q2[\"dec\"], unit='deg')\n",
    "q2[\"x\"], q2[\"y\"] = ccd.wcs.wcs_world2pix(coo.ra, coo.dec, 0)\n",
    "\n",
    "# Remove stars outside the image\n",
    "q2 = q2[(q2[\"x\"] > 10) & (q2[\"x\"] < ccd.shape[1]-10) \n",
    "        & (q2[\"y\"] > 10) & (q2[\"y\"] < ccd.shape[0]-10)]\n",
    "\n",
    "print(f\"Total {len(q2)} stars from PS1 DR2\")"
   ]
  }
 ],
 "metadata": {
  "kernelspec": {
   "display_name": "snuao",
   "language": "python",
   "name": "python3"
  },
  "language_info": {
   "codemirror_mode": {
    "name": "ipython",
    "version": 3
   },
   "file_extension": ".py",
   "mimetype": "text/x-python",
   "name": "python",
   "nbconvert_exporter": "python",
   "pygments_lexer": "ipython3",
   "version": "3.10.10"
  }
 },
 "nbformat": 4,
 "nbformat_minor": 2
}