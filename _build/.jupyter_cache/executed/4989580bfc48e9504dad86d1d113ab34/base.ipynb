{
 "cells": [
  {
   "cell_type": "code",
   "execution_count": 1,
   "metadata": {},
   "outputs": [],
   "source": [
    "import numpy as np\n",
    "from matplotlib import pyplot as plt\n",
    "plt.style.use('default')"
   ]
  },
  {
   "cell_type": "code",
   "execution_count": 2,
   "metadata": {},
   "outputs": [
    {
     "name": "stdout",
     "output_type": "stream",
     "text": [
      "arr1       = array([1., 2., 3.])\n",
      "type(arr1) = <class 'numpy.ndarray'>\n",
      "arr1.dtype = dtype('float64')\n"
     ]
    }
   ],
   "source": [
    "arr1 = np.array([1, 2, 3.])\n",
    "print(f\"{arr1       = }\")\n",
    "print(f\"{type(arr1) = }\")\n",
    "print(f\"{arr1.dtype = }\")"
   ]
  },
  {
   "cell_type": "code",
   "execution_count": 3,
   "metadata": {},
   "outputs": [
    {
     "name": "stdout",
     "output_type": "stream",
     "text": [
      "arr1.shape = (3,)\n",
      "arr1.size  = 3\n",
      "arr1.ndim  = 1\n"
     ]
    }
   ],
   "source": [
    "print(f\"{arr1.shape = }\")\n",
    "print(f\"{arr1.size  = }\")\n",
    "print(f\"{arr1.ndim  = }\")"
   ]
  },
  {
   "cell_type": "code",
   "execution_count": 4,
   "metadata": {},
   "outputs": [
    {
     "name": "stdout",
     "output_type": "stream",
     "text": [
      "arr2       = array([[1, 2, 3],\n",
      "       [4, 5, 6]])\n",
      "type(arr2) = <class 'numpy.ndarray'>\n",
      "arr2.dtype = dtype('int64')\n"
     ]
    }
   ],
   "source": [
    "arr2 = np.array([[1, 2, 3], [4, 5, 6]])\n",
    "print(f\"{arr2       = }\")\n",
    "print(f\"{type(arr2) = }\")\n",
    "print(f\"{arr2.dtype = }\")"
   ]
  },
  {
   "cell_type": "code",
   "execution_count": 5,
   "metadata": {},
   "outputs": [
    {
     "name": "stdout",
     "output_type": "stream",
     "text": [
      "arr2.shape = (2, 3)\n",
      "arr2.size  = 6\n",
      "arr2.ndim  = 2\n"
     ]
    }
   ],
   "source": [
    "print(f\"{arr2.shape = }\")\n",
    "print(f\"{arr2.size  = }\")\n",
    "print(f\"{arr2.ndim  = }\")"
   ]
  },
  {
   "cell_type": "code",
   "execution_count": 6,
   "metadata": {},
   "outputs": [
    {
     "name": "stdout",
     "output_type": "stream",
     "text": [
      "[0 1 2 3 4 5 6 7 8 9]\n"
     ]
    }
   ],
   "source": [
    "print(np.arange(10))"
   ]
  },
  {
   "cell_type": "code",
   "execution_count": 7,
   "metadata": {},
   "outputs": [
    {
     "name": "stdout",
     "output_type": "stream",
     "text": [
      "[0. 1. 2. 3. 4. 5. 6. 7. 8. 9.]\n"
     ]
    }
   ],
   "source": [
    "# Use the `float` input argument to make the output array as `float`:\n",
    "print(np.arange(10.)) "
   ]
  },
  {
   "cell_type": "code",
   "execution_count": 8,
   "metadata": {},
   "outputs": [
    {
     "name": "stdout",
     "output_type": "stream",
     "text": [
      "[10 15 20 25 30 35 40 45 50 55 60 65 70 75 80 85 90 95]\n"
     ]
    }
   ],
   "source": [
    "print(np.arange(10, 100, 5))"
   ]
  },
  {
   "cell_type": "code",
   "execution_count": 9,
   "metadata": {},
   "outputs": [
    {
     "name": "stdout",
     "output_type": "stream",
     "text": [
      "[10. 35. 60. 85.]\n"
     ]
    }
   ],
   "source": [
    "print(np.arange(10, 100, 25, dtype='float'))"
   ]
  },
  {
   "cell_type": "code",
   "execution_count": 10,
   "metadata": {},
   "outputs": [
    {
     "ename": "AttributeError",
     "evalue": "module 'numpy' has no attribute 'float128'",
     "output_type": "error",
     "traceback": [
      "\u001b[0;31m---------------------------------------------------------------------------\u001b[0m",
      "\u001b[0;31mAttributeError\u001b[0m                            Traceback (most recent call last)",
      "Cell \u001b[0;32mIn[10], line 1\u001b[0m\n\u001b[0;32m----> 1\u001b[0m \u001b[38;5;28mprint\u001b[39m(np\u001b[38;5;241m.\u001b[39marange(\u001b[38;5;241m10\u001b[39m, \u001b[38;5;241m100\u001b[39m, \u001b[38;5;241m25\u001b[39m, dtype\u001b[38;5;241m=\u001b[39m\u001b[43mnp\u001b[49m\u001b[38;5;241;43m.\u001b[39;49m\u001b[43mfloat128\u001b[49m))\n",
      "File \u001b[0;32m~/mambaforge/lib/python3.10/site-packages/numpy/__init__.py:311\u001b[0m, in \u001b[0;36m__getattr__\u001b[0;34m(attr)\u001b[0m\n\u001b[1;32m    308\u001b[0m     \u001b[38;5;28;01mfrom\u001b[39;00m \u001b[38;5;21;01m.\u001b[39;00m\u001b[38;5;21;01mtesting\u001b[39;00m \u001b[38;5;28;01mimport\u001b[39;00m Tester\n\u001b[1;32m    309\u001b[0m     \u001b[38;5;28;01mreturn\u001b[39;00m Tester\n\u001b[0;32m--> 311\u001b[0m \u001b[38;5;28;01mraise\u001b[39;00m \u001b[38;5;167;01mAttributeError\u001b[39;00m(\u001b[38;5;124m\"\u001b[39m\u001b[38;5;124mmodule \u001b[39m\u001b[38;5;132;01m{!r}\u001b[39;00m\u001b[38;5;124m has no attribute \u001b[39m\u001b[38;5;124m\"\u001b[39m\n\u001b[1;32m    312\u001b[0m                      \u001b[38;5;124m\"\u001b[39m\u001b[38;5;132;01m{!r}\u001b[39;00m\u001b[38;5;124m\"\u001b[39m\u001b[38;5;241m.\u001b[39mformat(\u001b[38;5;18m__name__\u001b[39m, attr))\n",
      "\u001b[0;31mAttributeError\u001b[0m: module 'numpy' has no attribute 'float128'"
     ]
    }
   ],
   "source": [
    "print(np.arange(10, 100, 25, dtype=np.float128))"
   ]
  },
  {
   "cell_type": "code",
   "execution_count": 11,
   "metadata": {},
   "outputs": [
    {
     "name": "stdout",
     "output_type": "stream",
     "text": [
      "[10. 35. 60. 85.]\n"
     ]
    }
   ],
   "source": [
    "print(np.arange(10, 100, 25, dtype='float32'))"
   ]
  },
  {
   "cell_type": "code",
   "execution_count": 12,
   "metadata": {},
   "outputs": [
    {
     "data": {
      "text/plain": [
       "array([1. , 1.1, 1.2, 1.3, 1.4, 1.5, 1.6])"
      ]
     },
     "execution_count": 12,
     "metadata": {},
     "output_type": "execute_result"
    }
   ],
   "source": [
    "np.arange(1, 1.6, 0.1)\n",
    "# You would expect it ends with 1.5, but actually 1.6 is in this array!!!\n",
    "# WTF!? See the link above."
   ]
  },
  {
   "cell_type": "code",
   "execution_count": 13,
   "metadata": {},
   "outputs": [
    {
     "data": {
      "text/plain": [
       "array([ 0. ,  2.5,  5. ,  7.5, 10. ])"
      ]
     },
     "execution_count": 13,
     "metadata": {},
     "output_type": "execute_result"
    }
   ],
   "source": [
    "# Frequent usage is just ``np.linspace(start, stop, num)``\n",
    "np.linspace(0, 10, num=5, endpoint=True)"
   ]
  },
  {
   "cell_type": "code",
   "execution_count": 14,
   "metadata": {},
   "outputs": [
    {
     "data": {
      "text/plain": [
       "array([ 1.        ,  1.77827941,  3.16227766,  5.62341325, 10.        ])"
      ]
     },
     "execution_count": 14,
     "metadata": {},
     "output_type": "execute_result"
    }
   ],
   "source": [
    "# Frequent usage is just ``np.logspace(start, stop, num)``\n",
    "np.logspace(0, 1, num=5, endpoint=True)"
   ]
  },
  {
   "cell_type": "code",
   "execution_count": 15,
   "metadata": {},
   "outputs": [],
   "source": [
    "np.testing.assert_allclose(np.logspace(0, 2), 10**(np.linspace(0, 2)))"
   ]
  },
  {
   "cell_type": "code",
   "execution_count": 16,
   "metadata": {},
   "outputs": [],
   "source": [
    "rand = np.random.RandomState(12345)"
   ]
  },
  {
   "cell_type": "code",
   "execution_count": 17,
   "metadata": {},
   "outputs": [
    {
     "name": "stdout",
     "output_type": "stream",
     "text": [
      "[-0.20470766  0.47894334 -0.51943872 -0.5557303   1.96578057]\n"
     ]
    }
   ],
   "source": [
    "arr_norm_1d = rand.normal(loc=0, scale=1, size=5)\n",
    "print(arr_norm_1d)"
   ]
  },
  {
   "cell_type": "code",
   "execution_count": 18,
   "metadata": {},
   "outputs": [
    {
     "name": "stdout",
     "output_type": "stream",
     "text": [
      "[[ 1.39340583  0.09290788  0.28174615]\n",
      " [ 0.76902257  1.24643474  1.00718936]\n",
      " [-1.29622111  0.27499163  0.22891288]]\n"
     ]
    }
   ],
   "source": [
    "arr_norm_2d = rand.normal(loc=0, scale=1, size=(3, 3))\n",
    "print(arr_norm_2d)"
   ]
  },
  {
   "cell_type": "code",
   "execution_count": 19,
   "metadata": {},
   "outputs": [
    {
     "data": {
      "text/plain": [
       "<matplotlib.legend.Legend at 0x10f331ff0>"
      ]
     },
     "execution_count": 19,
     "metadata": {},
     "output_type": "execute_result"
    },
    {
     "data": {
      "image/png": "[encoded data removed]",
      "text/plain": [
       "<Figure size 640x480 with 1 Axes>"
      ]
     },
     "metadata": {},
     "output_type": "display_data"
    }
   ],
   "source": [
    "xx = np.linspace(-4, 4, 100)\n",
    "plt.plot(xx, 1/np.sqrt(2*np.pi*1)*np.exp(-xx**2/2), \n",
    "         lw=4, alpha=0.5, label='True Gaussian')\n",
    "for i in range(3):\n",
    "    arr_norm_1d = rand.normal(size=50000)\n",
    "    _ = plt.hist(arr_norm_1d, 100, histtype='step', density=True, label=f\"Trial {i+1}\")\n",
    "\n",
    "plt.legend()"
   ]
  },
  {
   "cell_type": "code",
   "execution_count": 20,
   "metadata": {
    "scrolled": true
   },
   "outputs": [
    {
     "name": "stdout",
     "output_type": "stream",
     "text": [
      "original\n",
      " [0 1 2 3 4 5 6 7 8 9]\n",
      "\n",
      "reshaped\n",
      " [[0 1 2 3 4]\n",
      " [5 6 7 8 9]]\n",
      "\n",
      "reshaped's shape\n",
      " (2, 5)\n"
     ]
    }
   ],
   "source": [
    "arr_orig = np.arange(10)\n",
    "arr_resh = arr_orig.reshape(2, 5)\n",
    "print(\"original\\n\", arr_orig)\n",
    "print(\"\\nreshaped\\n\", arr_resh)\n",
    "print(\"\\nreshaped's shape\\n\", arr_resh.shape)"
   ]
  },
  {
   "cell_type": "code",
   "execution_count": 21,
   "metadata": {},
   "outputs": [
    {
     "name": "stdout",
     "output_type": "stream",
     "text": [
      "Ones\n",
      " [[1. 1. 1.]\n",
      " [1. 1. 1.]\n",
      " [1. 1. 1.]]\n",
      "\n",
      "Zeros\n",
      " [[0. 0. 0.]\n",
      " [0. 0. 0.]\n",
      " [0. 0. 0.]]\n",
      "\n",
      "Empty\n",
      " [[20.  0. -0.]\n",
      " [ 0.  7. -0.]\n",
      " [ 0.  0.  1.]]\n",
      "\n",
      "Identity\n",
      " [[1. 0. 0.]\n",
      " [0. 1. 0.]\n",
      " [0. 0. 1.]]\n"
     ]
    }
   ],
   "source": [
    "reference = np.arange(9).reshape(3, 3)\n",
    "ones = np.ones((3, 3))\n",
    "zeros = np.zeros((3, 3))\n",
    "emptys = np.empty((3, 3))\n",
    "identity = np.eye(3)\n",
    "\n",
    "print(\"Ones\\n\", ones)\n",
    "print(\"\\nZeros\\n\", zeros)\n",
    "print(\"\\nEmpty\\n\", emptys)\n",
    "print(\"\\nIdentity\\n\", identity)"
   ]
  },
  {
   "cell_type": "code",
   "execution_count": 22,
   "metadata": {},
   "outputs": [
    {
     "name": "stdout",
     "output_type": "stream",
     "text": [
      "Ones_like\n",
      " [[1. 1. 1.]\n",
      " [1. 1. 1.]\n",
      " [1. 1. 1.]]\n",
      "\n",
      "Zeros_like\n",
      " [[0. 0. 0.]\n",
      " [0. 0. 0.]\n",
      " [0. 0. 0.]]\n",
      "\n",
      "Empty_like\n",
      " [[20.  0. -0.]\n",
      " [ 0.  7. -0.]\n",
      " [ 0.  0.  1.]]\n"
     ]
    }
   ],
   "source": [
    "reference = np.arange(9).reshape(3, 3)\n",
    "ones_like = np.ones_like(reference)\n",
    "# np.ones(reference.shape)\n",
    "zeros_like = np.zeros_like(reference)\n",
    "emptys_like = np.empty_like((3, 3))\n",
    "\n",
    "print(\"Ones_like\\n\", ones)\n",
    "print(\"\\nZeros_like\\n\", zeros)\n",
    "print(\"\\nEmpty_like\\n\", emptys)"
   ]
  },
  {
   "cell_type": "code",
   "execution_count": 23,
   "metadata": {},
   "outputs": [
    {
     "name": "stdout",
     "output_type": "stream",
     "text": [
      "[0 1 2 3 4]\n",
      "[0 1 2 3 4]\n"
     ]
    }
   ],
   "source": [
    "a1 = np.arange(10).reshape(2, 5)\n",
    "print(a1[0]) # equivalent to a1[0, :], NOT a1[:, 0]\n",
    "print(a1[0, :])"
   ]
  },
  {
   "cell_type": "code",
   "execution_count": 24,
   "metadata": {},
   "outputs": [
    {
     "name": "stdout",
     "output_type": "stream",
     "text": [
      "[1 2]\n",
      "[0 2 4]\n"
     ]
    }
   ],
   "source": [
    "print(a1[0, 1:3])\n",
    "print(a1[0, ::2])  # double colon means \"every other x elements\""
   ]
  },
  {
   "cell_type": "code",
   "execution_count": 25,
   "metadata": {},
   "outputs": [
    {
     "name": "stdout",
     "output_type": "stream",
     "text": [
      "[5 6 7 8 9]\n"
     ]
    }
   ],
   "source": [
    "print(a1[-1, :])"
   ]
  },
  {
   "cell_type": "code",
   "execution_count": 26,
   "metadata": {},
   "outputs": [
    {
     "name": "stdout",
     "output_type": "stream",
     "text": [
      "[[-111    1    2    3    4]\n",
      " [   5    6    7    8    9]]\n"
     ]
    }
   ],
   "source": [
    "a1[0, 0] = -111\n",
    "print(a1)"
   ]
  },
  {
   "cell_type": "code",
   "execution_count": 27,
   "metadata": {},
   "outputs": [
    {
     "name": "stdout",
     "output_type": "stream",
     "text": [
      "a1[::-1]\n",
      "[[   5    6    7    8    9]\n",
      " [-111    1    2    3    4]]\n",
      "\n",
      "a1[:, ::-1]\n",
      "[[   4    3    2    1 -111]\n",
      " [   9    8    7    6    5]]\n"
     ]
    }
   ],
   "source": [
    "print(\"a1[::-1]\")\n",
    "print(a1[::-1])\n",
    "print(\"\\na1[:, ::-1]\")\n",
    "print(a1[:, ::-1])"
   ]
  },
  {
   "cell_type": "code",
   "execution_count": 28,
   "metadata": {},
   "outputs": [
    {
     "name": "stdout",
     "output_type": "stream",
     "text": [
      "[-111    1    2    3    4    5    6    7    8    9]\n"
     ]
    }
   ],
   "source": [
    "# N-D to 1-D\n",
    "print(a1.flatten())"
   ]
  },
  {
   "cell_type": "code",
   "execution_count": 29,
   "metadata": {},
   "outputs": [
    {
     "data": {
      "image/png": "[encoded data removed]",
      "text/plain": [
       "<Figure size 600x400 with 2 Axes>"
      ]
     },
     "metadata": {},
     "output_type": "display_data"
    }
   ],
   "source": [
    "rand = np.random.RandomState(12345)\n",
    "\n",
    "# Random number sampling from the standard normal distribution\n",
    "data = rand.normal(size=(1000, 1000))\n",
    "\n",
    "fig, axs = plt.subplots(1, 2, figsize=(6, 4))\n",
    "\n",
    "axs[0].imshow(data, origin='lower', aspect='auto')\n",
    "_ = axs[1].hist(data.flatten(), bins=100)\n",
    "\n",
    "plt.tight_layout()\n",
    "plt.show()"
   ]
  },
  {
   "cell_type": "code",
   "execution_count": 30,
   "metadata": {},
   "outputs": [],
   "source": [
    "a = np.arange(10)\n",
    "b = np.linspace(20, 11, num=10)"
   ]
  },
  {
   "cell_type": "code",
   "execution_count": 31,
   "metadata": {},
   "outputs": [
    {
     "name": "stdout",
     "output_type": "stream",
     "text": [
      "[0 1 2 3 4 5 6 7 8 9] [20. 19. 18. 17. 16. 15. 14. 13. 12. 11.]\n"
     ]
    }
   ],
   "source": [
    "print(a, b)"
   ]
  },
  {
   "cell_type": "code",
   "execution_count": 32,
   "metadata": {},
   "outputs": [
    {
     "name": "stdout",
     "output_type": "stream",
     "text": [
      "concatenate\n",
      "[ 0.  1.  2.  3.  4.  5.  6.  7.  8.  9. 20. 19. 18. 17. 16. 15. 14. 13.\n",
      " 12. 11.]\n",
      "\n",
      "hstack\n",
      "[ 0.  1.  2.  3.  4.  5.  6.  7.  8.  9. 20. 19. 18. 17. 16. 15. 14. 13.\n",
      " 12. 11.]\n",
      "\n",
      "vstack\n",
      "[[ 0.  1.  2.  3.  4.  5.  6.  7.  8.  9.]\n",
      " [20. 19. 18. 17. 16. 15. 14. 13. 12. 11.]]\n"
     ]
    }
   ],
   "source": [
    "print(\"concatenate\")\n",
    "print(np.concatenate([a, b]))\n",
    "print(\"\\nhstack\")\n",
    "print(np.hstack([a, b]))\n",
    "print(\"\\nvstack\")\n",
    "print(np.vstack([a, b]))"
   ]
  },
  {
   "cell_type": "code",
   "execution_count": 33,
   "metadata": {},
   "outputs": [],
   "source": [
    "ref1 = np.arange(20).reshape(5, 4)\n",
    "ref2 = np.arange(-19, 1).reshape(5, 4)"
   ]
  },
  {
   "cell_type": "code",
   "execution_count": 34,
   "metadata": {},
   "outputs": [
    {
     "name": "stdout",
     "output_type": "stream",
     "text": [
      "[[ 0  1  2  3]\n",
      " [ 4  5  6  7]\n",
      " [ 8  9 10 11]\n",
      " [12 13 14 15]\n",
      " [16 17 18 19]]\n",
      "[[-19 -18 -17 -16]\n",
      " [-15 -14 -13 -12]\n",
      " [-11 -10  -9  -8]\n",
      " [ -7  -6  -5  -4]\n",
      " [ -3  -2  -1   0]]\n"
     ]
    }
   ],
   "source": [
    "print(ref1)\n",
    "print(ref2)"
   ]
  },
  {
   "cell_type": "code",
   "execution_count": 35,
   "metadata": {},
   "outputs": [
    {
     "name": "stdout",
     "output_type": "stream",
     "text": [
      "[[ 0  2  4  6]\n",
      " [ 8 10 12 14]\n",
      " [16 18 20 22]\n",
      " [24 26 28 30]\n",
      " [32 34 36 38]]\n",
      "[[  0   1   4   9]\n",
      " [ 16  25  36  49]\n",
      " [ 64  81 100 121]\n",
      " [144 169 196 225]\n",
      " [256 289 324 361]]\n"
     ]
    }
   ],
   "source": [
    "print(2*ref1)\n",
    "print(ref1**2)"
   ]
  },
  {
   "cell_type": "code",
   "execution_count": 36,
   "metadata": {},
   "outputs": [
    {
     "name": "stdout",
     "output_type": "stream",
     "text": [
      "[[-19 -17 -15 -13]\n",
      " [-11  -9  -7  -5]\n",
      " [ -3  -1   1   3]\n",
      " [  5   7   9  11]\n",
      " [ 13  15  17  19]]\n"
     ]
    }
   ],
   "source": [
    "print(ref1 + ref2)"
   ]
  },
  {
   "cell_type": "code",
   "execution_count": 37,
   "metadata": {},
   "outputs": [
    {
     "name": "stdout",
     "output_type": "stream",
     "text": [
      "[[  0 -18 -34 -48]\n",
      " [-60 -70 -78 -84]\n",
      " [-88 -90 -90 -88]\n",
      " [-84 -78 -70 -60]\n",
      " [-48 -34 -18   0]]\n"
     ]
    }
   ],
   "source": [
    "print(ref1 * ref2)"
   ]
  },
  {
   "cell_type": "code",
   "execution_count": 38,
   "metadata": {},
   "outputs": [
    {
     "name": "stdout",
     "output_type": "stream",
     "text": [
      "[[ -0.          -0.05555556  -0.11764706  -0.1875    ]\n",
      " [ -0.26666667  -0.35714286  -0.46153846  -0.58333333]\n",
      " [ -0.72727273  -0.9         -1.11111111  -1.375     ]\n",
      " [ -1.71428571  -2.16666667  -2.8         -3.75      ]\n",
      " [ -5.33333333  -8.5        -18.                  inf]]\n"
     ]
    },
    {
     "name": "stderr",
     "output_type": "stream",
     "text": [
      "/var/folders/b1/mdnx6bfn6_v7p70xc3hpc9vh0000gn/T/ipykernel_38340/2058048057.py:1: RuntimeWarning: divide by zero encountered in divide\n",
      "  print(ref1/ref2)\n"
     ]
    }
   ],
   "source": [
    "print(ref1/ref2)"
   ]
  },
  {
   "cell_type": "code",
   "execution_count": 39,
   "metadata": {},
   "outputs": [
    {
     "name": "stdout",
     "output_type": "stream",
     "text": [
      "[[ -100   -76   -52   -28    -4]\n",
      " [ -380  -292  -204  -116   -28]\n",
      " [ -660  -508  -356  -204   -52]\n",
      " [ -940  -724  -508  -292   -76]\n",
      " [-1220  -940  -660  -380  -100]]\n"
     ]
    }
   ],
   "source": [
    "print(ref1@ref2.T)  # .T to Transpose"
   ]
  },
  {
   "cell_type": "code",
   "execution_count": 40,
   "metadata": {},
   "outputs": [
    {
     "name": "stderr",
     "output_type": "stream",
     "text": [
      "/var/folders/b1/mdnx6bfn6_v7p70xc3hpc9vh0000gn/T/ipykernel_38340/4165815205.py:1: RuntimeWarning: divide by zero encountered in divide\n",
      "  ref1_ref2 = ref1/ref2\n"
     ]
    }
   ],
   "source": [
    "ref1_ref2 = ref1/ref2\n",
    "# RuntimeWarning will appear"
   ]
  },
  {
   "cell_type": "code",
   "execution_count": 41,
   "metadata": {},
   "outputs": [
    {
     "data": {
      "text/plain": [
       "array([[False, False, False, False],\n",
       "       [False, False, False, False],\n",
       "       [False, False, False, False],\n",
       "       [False, False, False, False],\n",
       "       [False, False, False,  True]])"
      ]
     },
     "execution_count": 41,
     "metadata": {},
     "output_type": "execute_result"
    }
   ],
   "source": [
    "np.isinf(ref1_ref2)"
   ]
  },
  {
   "cell_type": "code",
   "execution_count": 42,
   "metadata": {},
   "outputs": [
    {
     "name": "stderr",
     "output_type": "stream",
     "text": [
      "/var/folders/b1/mdnx6bfn6_v7p70xc3hpc9vh0000gn/T/ipykernel_38340/916304143.py:1: RuntimeWarning: invalid value encountered in log\n",
      "  np.isnan(np.log(-1))\n"
     ]
    },
    {
     "data": {
      "text/plain": [
       "True"
      ]
     },
     "execution_count": 42,
     "metadata": {},
     "output_type": "execute_result"
    }
   ],
   "source": [
    "np.isnan(np.log(-1))"
   ]
  },
  {
   "cell_type": "code",
   "execution_count": 43,
   "metadata": {},
   "outputs": [
    {
     "name": "stdout",
     "output_type": "stream",
     "text": [
      "[[False False False False]\n",
      " [False False False False]\n",
      " [False False False False]\n",
      " [False False False False]\n",
      " [False False False  True]]\n",
      "[[False False False False]\n",
      " [False False False False]\n",
      " [False False False False]\n",
      " [False False False False]\n",
      " [False False False False]]\n"
     ]
    }
   ],
   "source": [
    "isinf = (ref1_ref2 == np.inf)  # same as np.isinf(~~)\n",
    "isnan = (ref1_ref2 == np.nan)  # same as np.isnan(~~)\n",
    "print(isinf)\n",
    "print(isnan)"
   ]
  },
  {
   "cell_type": "code",
   "execution_count": 44,
   "metadata": {},
   "outputs": [
    {
     "name": "stdout",
     "output_type": "stream",
     "text": [
      "1\n"
     ]
    }
   ],
   "source": [
    "print(np.count_nonzero(np.isinf(ref1_ref2)))"
   ]
  },
  {
   "cell_type": "code",
   "execution_count": 45,
   "metadata": {},
   "outputs": [
    {
     "name": "stdout",
     "output_type": "stream",
     "text": [
      "Original\n",
      " [[ 0  1  2  3]\n",
      " [ 4  5  6  7]\n",
      " [ 8  9 10 11]\n",
      " [12 13 14 15]\n",
      " [16 17 18 19]]\n",
      "\n",
      "Sum all\n",
      " 190\n",
      "\n",
      "Sum axis0\n",
      " [40 45 50 55]\n",
      "\n",
      "Sum axis1\n",
      " [ 6 22 38 54 70]\n"
     ]
    }
   ],
   "source": [
    "print(\"Original\\n\", ref1)\n",
    "print(\"\\nSum all\\n\", ref1.sum())\n",
    "print(\"\\nSum axis0\\n\", ref1.sum(axis=0))\n",
    "print(\"\\nSum axis1\\n\", ref1.sum(axis=1))"
   ]
  },
  {
   "cell_type": "code",
   "execution_count": 46,
   "metadata": {},
   "outputs": [
    {
     "name": "stdout",
     "output_type": "stream",
     "text": [
      "Mean axis1 [ 1.5  5.5  9.5 13.5 17.5]\n",
      "Median axis1 [ 1.5  5.5  9.5 13.5 17.5]\n",
      "Sample std axis1 [1.29099445 1.29099445 1.29099445 1.29099445 1.29099445]\n"
     ]
    }
   ],
   "source": [
    "print(\"Mean axis1\", np.mean(ref1, axis=1))\n",
    "print(\"Median axis1\", np.median(ref1, axis=1))\n",
    "print(\"Sample std axis1\", np.std(ref1, axis=1, ddof=1))"
   ]
  },
  {
   "cell_type": "code",
   "execution_count": 47,
   "metadata": {},
   "outputs": [
    {
     "name": "stdout",
     "output_type": "stream",
     "text": [
      "[[-1.0856306   0.99734545  0.2829785  -1.50629471]\n",
      " [-0.57860025  1.65143654 -2.42667924 -0.42891263]\n",
      " [ 1.26593626 -0.8667404  -0.67888615 -0.09470897]\n",
      " [ 1.49138963 -0.638902   -0.44398196 -0.43435128]\n",
      " [ 2.20593008  2.18678609  1.0040539   0.3861864 ]]\n"
     ]
    }
   ],
   "source": [
    "rand = np.random.RandomState(123)\n",
    "a = rand.normal(size=(5, 4))\n",
    "b = rand.normal(size=(5, 4))\n",
    "print(a)"
   ]
  },
  {
   "cell_type": "code",
   "execution_count": 48,
   "metadata": {},
   "outputs": [
    {
     "name": "stdout",
     "output_type": "stream",
     "text": [
      "Mask\n",
      " [[False  True  True False]\n",
      " [ True False False  True]\n",
      " [False  True  True  True]\n",
      " [False  True  True  True]\n",
      " [False False False  True]]\n",
      "\n",
      "Masked values\n",
      " [ 0.99734545  0.2829785  -0.57860025 -0.42891263 -0.8667404  -0.67888615\n",
      " -0.09470897 -0.638902   -0.44398196 -0.43435128  0.3861864 ]\n",
      "\n",
      "In 1-sigma ratio\n",
      " 0.55\n"
     ]
    }
   ],
   "source": [
    "m_a = ((-1 < a) & (a < 1))\n",
    "# For \"or\", you can use ``|`` (called \"pipe\". Hit \"shift + \\\")\n",
    "in1sig = np.count_nonzero(m_a)\n",
    "in1sig_ratio = in1sig / a.size\n",
    "\n",
    "print(\"Mask\\n\", m_a)\n",
    "print(\"\\nMasked values\\n\", a[m_a])\n",
    "print(\"\\nIn 1-sigma ratio\\n\", in1sig_ratio)"
   ]
  },
  {
   "cell_type": "code",
   "execution_count": 49,
   "metadata": {},
   "outputs": [
    {
     "data": {
      "text/plain": [
       "array([[ True,  True,  True,  True],\n",
       "       [ True,  True,  True,  True],\n",
       "       [ True, False, False,  True],\n",
       "       [ True,  True,  True,  True],\n",
       "       [ True,  True,  True,  True]])"
      ]
     },
     "execution_count": 49,
     "metadata": {},
     "output_type": "execute_result"
    }
   ],
   "source": [
    "data_quality = np.ones_like(b).astype(bool)\n",
    "data_quality[2, 1:3] = False\n",
    "data_quality"
   ]
  },
  {
   "cell_type": "code",
   "execution_count": 50,
   "metadata": {},
   "outputs": [
    {
     "data": {
      "text/plain": [
       "array([[ 0.73736858,  1.49073203, -0.93583387,  1.17582904],\n",
       "       [-1.25388067, -0.6377515 ,  0.9071052 , -1.4286807 ],\n",
       "       [-0.14006872,         nan,         nan, -2.79858911],\n",
       "       [-1.7715331 , -0.69987723,  0.92746243, -0.17363568],\n",
       "       [ 0.00284592,  0.68822271, -0.87953634,  0.28362732]])"
      ]
     },
     "execution_count": 50,
     "metadata": {},
     "output_type": "execute_result"
    }
   ],
   "source": [
    "b_nan = b.copy()\n",
    "b_nan[~data_quality] = np.nan\n",
    "b_nan"
   ]
  },
  {
   "cell_type": "code",
   "execution_count": 51,
   "metadata": {},
   "outputs": [
    {
     "data": {
      "text/plain": [
       "array([[-0.17413101,  1.24403874, -0.32642769, -0.16523283],\n",
       "       [-0.91624046,  0.50684252, -0.75978702, -0.92879666],\n",
       "       [ 0.56293377,         nan,         nan, -1.44664904],\n",
       "       [-0.14007174, -0.66938962,  0.24174024, -0.30399348],\n",
       "       [ 1.104388  ,  1.4375044 ,  0.06225878,  0.33490686]])"
      ]
     },
     "execution_count": 51,
     "metadata": {},
     "output_type": "execute_result"
    }
   ],
   "source": [
    "np.mean([a, b_nan], axis=0)"
   ]
  },
  {
   "cell_type": "code",
   "execution_count": 52,
   "metadata": {},
   "outputs": [
    {
     "data": {
      "text/plain": [
       "array([[-0.17413101,  1.24403874, -0.32642769, -0.16523283],\n",
       "       [-0.91624046,  0.50684252, -0.75978702, -0.92879666],\n",
       "       [ 0.56293377, -0.8667404 , -0.67888615, -1.44664904],\n",
       "       [-0.14007174, -0.66938962,  0.24174024, -0.30399348],\n",
       "       [ 1.104388  ,  1.4375044 ,  0.06225878,  0.33490686]])"
      ]
     },
     "execution_count": 52,
     "metadata": {},
     "output_type": "execute_result"
    }
   ],
   "source": [
    "np.nanmean([a, b_nan], axis=0)"
   ]
  },
  {
   "cell_type": "code",
   "execution_count": 53,
   "metadata": {},
   "outputs": [
    {
     "name": "stdout",
     "output_type": "stream",
     "text": [
      "4.1 µs ± 18.5 ns per loop (mean ± std. dev. of 7 runs, 100,000 loops each)\n"
     ]
    },
    {
     "name": "stdout",
     "output_type": "stream",
     "text": [
      "12.8 µs ± 400 ns per loop (mean ± std. dev. of 7 runs, 100,000 loops each)\n"
     ]
    }
   ],
   "source": [
    "%timeit np.mean([a, b_nan], axis=0)\n",
    "%timeit np.nanmean([a, b_nan], axis=0)"
   ]
  },
  {
   "cell_type": "code",
   "execution_count": 54,
   "metadata": {},
   "outputs": [
    {
     "name": "stdout",
     "output_type": "stream",
     "text": [
      "<class 'numpy.ma.core.MaskedArray'>\n"
     ]
    }
   ],
   "source": [
    "a_masked = np.ma.array(data=a, mask=m_a)\n",
    "b_masked = np.ma.array(data=b, mask=~data_quality)\n",
    "print(type(a_masked))"
   ]
  },
  {
   "cell_type": "code",
   "execution_count": 55,
   "metadata": {},
   "outputs": [
    {
     "data": {
      "text/plain": [
       "masked_array(\n",
       "  data=[[-1.0856306033005612, --, --, -1.5062947139180922],\n",
       "        [--, 1.651436537097151, -2.426679243393074, --],\n",
       "        [1.2659362587055338, --, --, --],\n",
       "        [1.4913896261242878, --, --, --],\n",
       "        [2.205930082725455, 2.1867860889737862, 1.004053897878877, --]],\n",
       "  mask=[[False,  True,  True, False],\n",
       "        [ True, False, False,  True],\n",
       "        [False,  True,  True,  True],\n",
       "        [False,  True,  True,  True],\n",
       "        [False, False, False,  True]],\n",
       "  fill_value=1e+20)"
      ]
     },
     "execution_count": 55,
     "metadata": {},
     "output_type": "execute_result"
    }
   ],
   "source": [
    "a_masked"
   ]
  },
  {
   "cell_type": "code",
   "execution_count": 56,
   "metadata": {},
   "outputs": [
    {
     "data": {
      "text/plain": [
       "masked_array(\n",
       "  data=[[0.7373685758962422, 1.490732028150799, -0.9358338684023914,\n",
       "         1.1758290447821034],\n",
       "        [-1.2538806677490124, -0.6377515024534103, 0.9071051958003014,\n",
       "         -1.4286807002259692],\n",
       "        [-0.1400687201886661, --, --, -2.7985891054607244],\n",
       "        [-1.771533104509847, -0.6998772345979173, 0.9274624317585825,\n",
       "         -0.1736356827902158],\n",
       "        [0.0028459158968110196, 0.688222711102285, -0.8795363430090519,\n",
       "         0.283627323807291]],\n",
       "  mask=[[False, False, False, False],\n",
       "        [False, False, False, False],\n",
       "        [False,  True,  True, False],\n",
       "        [False, False, False, False],\n",
       "        [False, False, False, False]],\n",
       "  fill_value=1e+20)"
      ]
     },
     "execution_count": 56,
     "metadata": {},
     "output_type": "execute_result"
    }
   ],
   "source": [
    "b_masked"
   ]
  },
  {
   "cell_type": "code",
   "execution_count": 57,
   "metadata": {},
   "outputs": [
    {
     "data": {
      "text/plain": [
       "array([[False,  True,  True, False],\n",
       "       [ True, False, False,  True],\n",
       "       [False,  True,  True,  True],\n",
       "       [False,  True,  True,  True],\n",
       "       [False, False, False,  True]])"
      ]
     },
     "execution_count": 57,
     "metadata": {},
     "output_type": "execute_result"
    }
   ],
   "source": [
    "a_masked.mask"
   ]
  },
  {
   "cell_type": "code",
   "execution_count": 58,
   "metadata": {},
   "outputs": [
    {
     "data": {
      "text/plain": [
       "array([[-1.0856306 ,  0.99734545,  0.2829785 , -1.50629471],\n",
       "       [-0.57860025,  1.65143654, -2.42667924, -0.42891263],\n",
       "       [ 1.26593626, -0.8667404 , -0.67888615, -0.09470897],\n",
       "       [ 1.49138963, -0.638902  , -0.44398196, -0.43435128],\n",
       "       [ 2.20593008,  2.18678609,  1.0040539 ,  0.3861864 ]])"
      ]
     },
     "execution_count": 58,
     "metadata": {},
     "output_type": "execute_result"
    }
   ],
   "source": [
    "a_masked.data"
   ]
  },
  {
   "cell_type": "code",
   "execution_count": 59,
   "metadata": {},
   "outputs": [
    {
     "name": "stdout",
     "output_type": "stream",
     "text": [
      "0.11441773195529015 0.5318808812103737\n"
     ]
    }
   ],
   "source": [
    "print(np.mean(a), np.mean(a_masked))"
   ]
  },
  {
   "cell_type": "code",
   "execution_count": 60,
   "metadata": {},
   "outputs": [
    {
     "data": {
      "text/plain": [
       "masked_array(\n",
       "  data=[[-0.348262027404319, --, --, -0.33046566913598885],\n",
       "        [--, 1.013685034643741, -1.5195740475927728, --],\n",
       "        [1.1258675385168677, --, --, --],\n",
       "        [-0.2801434783855592, --, --, --],\n",
       "        [2.208775998622266, 2.8750088000760714, 0.12451755486982519, --]],\n",
       "  mask=[[False,  True,  True, False],\n",
       "        [ True, False, False,  True],\n",
       "        [False,  True,  True,  True],\n",
       "        [False,  True,  True,  True],\n",
       "        [False, False, False,  True]],\n",
       "  fill_value=1e+20)"
      ]
     },
     "execution_count": 60,
     "metadata": {},
     "output_type": "execute_result"
    }
   ],
   "source": [
    "a_masked + b_masked"
   ]
  },
  {
   "cell_type": "code",
   "execution_count": 61,
   "metadata": {},
   "outputs": [],
   "source": [
    "np.save(\"test_a\", a)"
   ]
  },
  {
   "cell_type": "code",
   "execution_count": 62,
   "metadata": {},
   "outputs": [
    {
     "data": {
      "text/plain": [
       "array([[-1.0856306 ,  0.99734545,  0.2829785 , -1.50629471],\n",
       "       [-0.57860025,  1.65143654, -2.42667924, -0.42891263],\n",
       "       [ 1.26593626, -0.8667404 , -0.67888615, -0.09470897],\n",
       "       [ 1.49138963, -0.638902  , -0.44398196, -0.43435128],\n",
       "       [ 2.20593008,  2.18678609,  1.0040539 ,  0.3861864 ]])"
      ]
     },
     "execution_count": 62,
     "metadata": {},
     "output_type": "execute_result"
    }
   ],
   "source": [
    "np.load(\"test_a.npy\")"
   ]
  },
  {
   "cell_type": "code",
   "execution_count": 63,
   "metadata": {},
   "outputs": [],
   "source": [
    "with open(\"test_data.csv\", \"w+\") as ff:\n",
    "    ff.write('''\n",
    "1,2.3,C\n",
    "2,1.9,A\n",
    "3,3.3,AB\n",
    "4,3.0,A\n",
    "5,1.2,AB\n",
    "''')"
   ]
  },
  {
   "cell_type": "code",
   "execution_count": 64,
   "metadata": {},
   "outputs": [
    {
     "name": "stdout",
     "output_type": "stream",
     "text": [
      "[[1.  2.3 nan]\n",
      " [2.  1.9 nan]\n",
      " [3.  3.3 nan]\n",
      " [4.  3.  nan]\n",
      " [5.  1.2 nan]]\n"
     ]
    }
   ],
   "source": [
    "data = np.genfromtxt(\"test_data.csv\", \n",
    "                     delimiter=',', \n",
    "                    )\n",
    "print(data)"
   ]
  },
  {
   "cell_type": "code",
   "execution_count": 65,
   "metadata": {},
   "outputs": [
    {
     "name": "stdout",
     "output_type": "stream",
     "text": [
      "[['1' '2.3' 'C']\n",
      " ['2' '1.9' 'A']\n",
      " ['3' '3.3' 'AB']\n",
      " ['4' '3.0' 'A']\n",
      " ['5' '1.2' 'AB']]\n"
     ]
    }
   ],
   "source": [
    "data = np.genfromtxt(\"test_data.csv\", \n",
    "                     delimiter=',', \n",
    "                     dtype=bytes\n",
    "                    ).astype(str)\n",
    "print(data)"
   ]
  },
  {
   "cell_type": "code",
   "execution_count": 66,
   "metadata": {},
   "outputs": [
    {
     "name": "stdout",
     "output_type": "stream",
     "text": [
      "[2.3 1.9 3.3 3.  1.2]\n"
     ]
    }
   ],
   "source": [
    "values = data[:, 1].astype(float)\n",
    "print(values)"
   ]
  }
 ],
 "metadata": {
  "kernelspec": {
   "display_name": "Python 3",
   "language": "python",
   "name": "python3"
  },
  "language_info": {
   "codemirror_mode": {
    "name": "ipython",
    "version": 3
   },
   "file_extension": ".py",
   "mimetype": "text/x-python",
   "name": "python",
   "nbconvert_exporter": "python",
   "pygments_lexer": "ipython3",
   "version": "3.10.10"
  },
  "varInspector": {
   "cols": {
    "lenName": 16,
    "lenType": 16,
    "lenVar": 40
   },
   "kernels_config": {
    "python": {
     "delete_cmd_postfix": "",
     "delete_cmd_prefix": "del ",
     "library": "var_list.py",
     "varRefreshCmd": "print(var_dic_list())"
    },
    "r": {
     "delete_cmd_postfix": ") ",
     "delete_cmd_prefix": "rm(",
     "library": "var_list.r",
     "varRefreshCmd": "cat(var_dic_list()) "
    }
   },
   "types_to_exclude": [
    "module",
    "function",
    "builtin_function_or_method",
    "instance",
    "_Feature"
   ],
   "window_display": false
  }
 },
 "nbformat": 4,
 "nbformat_minor": 2
}