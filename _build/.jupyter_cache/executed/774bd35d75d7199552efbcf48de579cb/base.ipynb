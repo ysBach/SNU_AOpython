{
 "cells": [
  {
   "cell_type": "code",
   "execution_count": 1,
   "metadata": {},
   "outputs": [],
   "source": [
    "from pathlib import Path\n",
    "import numpy as np\n",
    "import time\n",
    "\n",
    "from astropy.io import fits\n",
    "from astropy.nddata import CCDData"
   ]
  },
  {
   "cell_type": "code",
   "execution_count": 2,
   "metadata": {},
   "outputs": [
    {
     "name": "stdout",
     "output_type": "stream",
     "text": [
      "<class 'astropy.nddata.ccddata.CCDData'>\n",
      "[[1. 1. 1. ... 1. 1. 1.]\n",
      " [1. 1. 1. ... 1. 1. 1.]\n",
      " [1. 1. 1. ... 1. 1. 1.]\n",
      " ...\n",
      " [1. 1. 1. ... 1. 1. 1.]\n",
      " [1. 1. 1. ... 1. 1. 1.]\n",
      " [1. 1. 1. ... 1. 1. 1.]]\n"
     ]
    }
   ],
   "source": [
    "test_data_01 = np.ones((100, 100))\n",
    "test_ccd_01 = CCDData(data=test_data_01, header=None, unit='adu')\n",
    "print(type(test_ccd_01))\n",
    "print(test_ccd_01.data)"
   ]
  },
  {
   "cell_type": "code",
   "execution_count": 3,
   "metadata": {},
   "outputs": [
    {
     "data": {
      "text/plain": [
       "OrderedDict()"
      ]
     },
     "execution_count": 3,
     "metadata": {},
     "output_type": "execute_result"
    }
   ],
   "source": [
    "test_ccd_01.header"
   ]
  },
  {
   "cell_type": "code",
   "execution_count": 4,
   "metadata": {},
   "outputs": [],
   "source": [
    "test_ccd_01.write(\"test_01.fits\", overwrite=True)"
   ]
  },
  {
   "cell_type": "code",
   "execution_count": 5,
   "metadata": {},
   "outputs": [
    {
     "name": "stdout",
     "output_type": "stream",
     "text": [
      "<class 'astropy.io.fits.hdu.image.PrimaryHDU'>\n",
      "[[1. 1. 1. ... 1. 1. 1.]\n",
      " [1. 1. 1. ... 1. 1. 1.]\n",
      " [1. 1. 1. ... 1. 1. 1.]\n",
      " ...\n",
      " [1. 1. 1. ... 1. 1. 1.]\n",
      " [1. 1. 1. ... 1. 1. 1.]\n",
      " [1. 1. 1. ... 1. 1. 1.]]\n"
     ]
    }
   ],
   "source": [
    "test_data_01 = np.ones((100, 100))\n",
    "test_hdu_01 = fits.PrimaryHDU(data=test_data_01, header=None)\n",
    "print(type(test_hdu_01))\n",
    "print(test_hdu_01.data)"
   ]
  },
  {
   "cell_type": "code",
   "execution_count": 6,
   "metadata": {},
   "outputs": [],
   "source": [
    "# If you want, you can make HDUList.\n",
    "# But it is unnecessary because we have only one extension.\n",
    "# hdul = fits.HDUList([test_hdu_01])\n",
    "\n",
    "test_hdu_01.writeto(\"test_01.fits\", overwrite=True, output_verify='fix')"
   ]
  },
  {
   "cell_type": "code",
   "execution_count": 7,
   "metadata": {},
   "outputs": [
    {
     "name": "stdout",
     "output_type": "stream",
     "text": [
      "<class 'astropy.nddata.ccddata.CCDData'>\n",
      "[[1. 1. 1. ... 1. 1. 1.]\n",
      " [1. 1. 1. ... 1. 1. 1.]\n",
      " [1. 1. 1. ... 1. 1. 1.]\n",
      " ...\n",
      " [1. 1. 1. ... 1. 1. 1.]\n",
      " [1. 1. 1. ... 1. 1. 1.]\n",
      " [1. 1. 1. ... 1. 1. 1.]]\n"
     ]
    }
   ],
   "source": [
    "test_ccd_01_read = CCDData.read(\"test_01.fits\", unit=\"adu\")\n",
    "print(type(test_ccd_01_read))\n",
    "print(test_ccd_01_read.data)"
   ]
  },
  {
   "cell_type": "code",
   "execution_count": 8,
   "metadata": {},
   "outputs": [
    {
     "data": {
      "text/plain": [
       "SIMPLE  =                    T / conforms to FITS standard                      \n",
       "BITPIX  =                  -64 / array data type                                \n",
       "NAXIS   =                    2 / number of array dimensions                     \n",
       "NAXIS1  =                  100                                                  \n",
       "NAXIS2  =                  100                                                  \n",
       "EXTEND  =                    T                                                  "
      ]
     },
     "execution_count": 8,
     "metadata": {},
     "output_type": "execute_result"
    }
   ],
   "source": [
    "test_ccd_01_read.header"
   ]
  },
  {
   "cell_type": "code",
   "execution_count": 9,
   "metadata": {},
   "outputs": [
    {
     "name": "stdout",
     "output_type": "stream",
     "text": [
      "<class 'astropy.io.fits.hdu.hdulist.HDUList'>\n"
     ]
    }
   ],
   "source": [
    "test_ccd_01_hdul = fits.open(\"test_01.fits\")\n",
    "print(type(test_ccd_01_hdul))"
   ]
  },
  {
   "cell_type": "code",
   "execution_count": 10,
   "metadata": {},
   "outputs": [
    {
     "name": "stdout",
     "output_type": "stream",
     "text": [
      "Filename: test_01.fits\n",
      "No.    Name      Ver    Type      Cards   Dimensions   Format\n",
      "  0  PRIMARY       1 PrimaryHDU       6   (100, 100)   float64   \n"
     ]
    },
    {
     "name": "stdout",
     "output_type": "stream",
     "text": [
      "None\n"
     ]
    }
   ],
   "source": [
    "print(test_ccd_01_hdul.info())"
   ]
  },
  {
   "cell_type": "code",
   "execution_count": 11,
   "metadata": {},
   "outputs": [
    {
     "name": "stdout",
     "output_type": "stream",
     "text": [
      "<class 'astropy.io.fits.hdu.image.PrimaryHDU'>\n",
      "<class 'astropy.io.fits.hdu.image.PrimaryHDU'>\n"
     ]
    }
   ],
   "source": [
    "print(type(test_ccd_01_hdul[0]))\n",
    "print(type(test_ccd_01_hdul[\"PRIMARY\"]))"
   ]
  },
  {
   "cell_type": "code",
   "execution_count": 12,
   "metadata": {},
   "outputs": [
    {
     "name": "stdout",
     "output_type": "stream",
     "text": [
      "[[1. 1. 1. ... 1. 1. 1.]\n",
      " [1. 1. 1. ... 1. 1. 1.]\n",
      " [1. 1. 1. ... 1. 1. 1.]\n",
      " ...\n",
      " [1. 1. 1. ... 1. 1. 1.]\n",
      " [1. 1. 1. ... 1. 1. 1.]\n",
      " [1. 1. 1. ... 1. 1. 1.]]\n"
     ]
    }
   ],
   "source": [
    "print(test_ccd_01_hdul[0].data)"
   ]
  },
  {
   "cell_type": "code",
   "execution_count": 13,
   "metadata": {},
   "outputs": [
    {
     "data": {
      "text/plain": [
       "SIMPLE  =                    T / conforms to FITS standard                      \n",
       "BITPIX  =                  -64 / array data type                                \n",
       "NAXIS   =                    2 / number of array dimensions                     \n",
       "NAXIS1  =                  100                                                  \n",
       "NAXIS2  =                  100                                                  \n",
       "EXTEND  =                    T                                                  "
      ]
     },
     "execution_count": 13,
     "metadata": {},
     "output_type": "execute_result"
    }
   ],
   "source": [
    "test_ccd_01_hdul[0].header"
   ]
  },
  {
   "cell_type": "code",
   "execution_count": 14,
   "metadata": {},
   "outputs": [],
   "source": [
    "test_data_02 = np.ones((10, 20))\n",
    "\n",
    "header_str = '''OBJECT  = 'dark    '                                                            \n",
    "GAIN    =    1.360000014305115 / [e-/ADU] The electron gain factor.             \n",
    "RDNOISE =                  9.0 / [e-] The (Gaussian) read noise.                \n",
    "'''\n",
    "header = fits.Header.fromstring(header_str, sep='\\n')\n",
    "test_ccd_02 = CCDData(data=test_data_02, header=header, unit='adu')"
   ]
  },
  {
   "cell_type": "code",
   "execution_count": 15,
   "metadata": {},
   "outputs": [
    {
     "data": {
      "text/plain": [
       "OBJECT  = 'dark    '                                                            \n",
       "GAIN    =    1.360000014305115 / [e-/ADU] The electron gain factor.             \n",
       "RDNOISE =                  9.0 / [e-] The (Gaussian) read noise.                "
      ]
     },
     "execution_count": 15,
     "metadata": {},
     "output_type": "execute_result"
    }
   ],
   "source": [
    "test_ccd_02.header"
   ]
  },
  {
   "cell_type": "code",
   "execution_count": 16,
   "metadata": {},
   "outputs": [],
   "source": [
    "test_ccd_02.write(\"test2.fits\", overwrite=True)\n",
    "test_ccd_02_read = CCDData.read(\"test2.fits\")"
   ]
  },
  {
   "cell_type": "code",
   "execution_count": 17,
   "metadata": {},
   "outputs": [
    {
     "data": {
      "text/plain": [
       "SIMPLE  =                    T / conforms to FITS standard                      \n",
       "BITPIX  =                  -64 / array data type                                \n",
       "NAXIS   =                    2 / number of array dimensions                     \n",
       "NAXIS1  =                   20                                                  \n",
       "NAXIS2  =                   10                                                  \n",
       "OBJECT  = 'dark    '                                                            \n",
       "GAIN    =    1.360000014305115 / [e-/ADU] The electron gain factor.             \n",
       "RDNOISE =                  9.0 / [e-] The (Gaussian) read noise.                \n",
       "BUNIT   = 'adu     '                                                            "
      ]
     },
     "execution_count": 17,
     "metadata": {},
     "output_type": "execute_result"
    }
   ],
   "source": [
    "test_ccd_02_read.header"
   ]
  },
  {
   "cell_type": "code",
   "execution_count": 18,
   "metadata": {},
   "outputs": [],
   "source": [
    "header = fits.Header.fromstring('')  # empty header\n",
    "\n",
    "# 1) Basic setting\n",
    "header[\"object\"] = 'dark'  # header key will automatically be capitalized\n",
    "\n",
    "# 2) With comment\n",
    "header[\"GAIN\"] = (1.36, \"[e-/ADU] The electron gain factor.\")\n",
    "\n",
    "# 3) Using .set()\n",
    "header.set(\"RDNOISE\", 9.0, \"[e-] The (Gaussian) read noise.\")\n",
    "header.set(\"RDNOISE\", 10.0, \"[e-] The (Gaussian) read noise. Oops, I am adding it again! What will happen?\")\n",
    "\n",
    "# 4) Adding COMMENT line\n",
    "header.add_comment(\"This is a testing fits file.\")\n",
    "header.add_comment(\"This is the second comment.\")\n",
    "header.add_comment(\"What if the comment is too long? \"*6)\n",
    "\n",
    "# 5) Adding HISTORY line\n",
    "header.add_history(\"Bias subtracted 2019-01-01T00:00:01\")\n",
    "header.add_history(\"Dark corrected 2019-01-01T00:00:02\")\n",
    "header.add_history(\"Flat corrected 2019-01-01T00:00:03\")\n",
    "header.add_history(\"Cosmic ray rejected 2019-01-01T00:00:04\")\n",
    "header.add_history(\"WCS added 2019-01-01T00:00:06\")\n",
    "\n",
    "test_ccd_03 = CCDData(data=test_data_02, header=header, unit='adu')"
   ]
  },
  {
   "cell_type": "code",
   "execution_count": 19,
   "metadata": {},
   "outputs": [
    {
     "name": "stderr",
     "output_type": "stream",
     "text": [
      "WARNING: VerifyWarning: Card is too long, comment will be truncated. [astropy.io.fits.card]\n"
     ]
    },
    {
     "data": {
      "text/plain": [
       "OBJECT  = 'dark    '                                                            \n",
       "GAIN    =                 1.36 / [e-/ADU] The electron gain factor.             \n",
       "RDNOISE =                 10.0 / [e-] The (Gaussian) read noise. Oops, I am addi\n",
       "COMMENT This is a testing fits file.                                            \n",
       "COMMENT This is the second comment.                                             \n",
       "COMMENT What if the comment is too long? What if the comment is too long? What i\n",
       "COMMENT f the comment is too long? What if the comment is too long? What if the \n",
       "COMMENT comment is too long? What if the comment is too long?                   \n",
       "HISTORY Bias subtracted 2019-01-01T00:00:01                                     \n",
       "HISTORY Dark corrected 2019-01-01T00:00:02                                      \n",
       "HISTORY Flat corrected 2019-01-01T00:00:03                                      \n",
       "HISTORY Cosmic ray rejected 2019-01-01T00:00:04                                 \n",
       "HISTORY WCS added 2019-01-01T00:00:06                                           "
      ]
     },
     "execution_count": 19,
     "metadata": {},
     "output_type": "execute_result"
    }
   ],
   "source": [
    "test_ccd_03.header"
   ]
  },
  {
   "cell_type": "code",
   "execution_count": 20,
   "metadata": {},
   "outputs": [],
   "source": [
    "test_ccd_03.write(\"test3.fits\", overwrite=True)\n",
    "test_ccd_03_read = CCDData.read(\"test3.fits\")"
   ]
  },
  {
   "cell_type": "code",
   "execution_count": 21,
   "metadata": {},
   "outputs": [
    {
     "data": {
      "text/plain": [
       "SIMPLE  =                    T / conforms to FITS standard                      \n",
       "BITPIX  =                  -64 / array data type                                \n",
       "NAXIS   =                    2 / number of array dimensions                     \n",
       "NAXIS1  =                   20                                                  \n",
       "NAXIS2  =                   10                                                  \n",
       "OBJECT  = 'dark    '                                                            \n",
       "GAIN    =                 1.36 / [e-/ADU] The electron gain factor.             \n",
       "RDNOISE =                 10.0 / [e-] The (Gaussian) read noise. Oops, I am addi\n",
       "BUNIT   = 'adu     '                                                            \n",
       "COMMENT This is a testing fits file.                                            \n",
       "COMMENT This is the second comment.                                             \n",
       "COMMENT What if the comment is too long? What if the comment is too long? What i\n",
       "COMMENT f the comment is too long? What if the comment is too long? What if the \n",
       "COMMENT comment is too long? What if the comment is too long?                   \n",
       "HISTORY Bias subtracted 2019-01-01T00:00:01                                     \n",
       "HISTORY Dark corrected 2019-01-01T00:00:02                                      \n",
       "HISTORY Flat corrected 2019-01-01T00:00:03                                      \n",
       "HISTORY Cosmic ray rejected 2019-01-01T00:00:04                                 \n",
       "HISTORY WCS added 2019-01-01T00:00:06                                           "
      ]
     },
     "execution_count": 21,
     "metadata": {},
     "output_type": "execute_result"
    }
   ],
   "source": [
    "test_ccd_03_read.header"
   ]
  },
  {
   "cell_type": "code",
   "execution_count": 22,
   "metadata": {},
   "outputs": [],
   "source": [
    "prim = fits.PrimaryHDU(data=None, header=header)\n",
    "im1 = fits.ImageHDU(data=np.ones((10, 10)), header=None, name=\"SCI\")\n",
    "im2 = fits.ImageHDU(data=np.zeros((10, 10)), header=None, name=\"UNCERT\")\n",
    "hdul_mef = fits.HDUList([prim, im1, im2])\n",
    "hdul_mef.writeto(\"test_mef.fits\", overwrite=True, output_verify='fix')"
   ]
  },
  {
   "cell_type": "code",
   "execution_count": 23,
   "metadata": {},
   "outputs": [
    {
     "name": "stdout",
     "output_type": "stream",
     "text": [
      "Filename: test_mef.fits\n",
      "No.    Name      Ver    Type      Cards   Dimensions   Format\n",
      "  0  PRIMARY       1 PrimaryHDU      17   ()      \n",
      "  1  SCI           1 ImageHDU         8   (10, 10)   float64   \n",
      "  2  UNCERT        1 ImageHDU         8   (10, 10)   float64   \n"
     ]
    },
    {
     "name": "stdout",
     "output_type": "stream",
     "text": [
      "None\n"
     ]
    }
   ],
   "source": [
    "hdul_mef_read = fits.open(\"test_mef.fits\")\n",
    "print(hdul_mef_read.info())"
   ]
  },
  {
   "cell_type": "code",
   "execution_count": 24,
   "metadata": {},
   "outputs": [],
   "source": [
    "np.testing.assert_allclose(hdul_mef_read[1].data, hdul_mef_read[\"SCI\"].data)"
   ]
  },
  {
   "cell_type": "code",
   "execution_count": 25,
   "metadata": {},
   "outputs": [],
   "source": [
    "hdul_mef_data_1 = fits.getdata(\"test_mef.fits\", ext=1)\n",
    "hdul_mef_data_2 = fits.getdata(\"test_mef.fits\", extname=\"UNCERT\")\n",
    "np.testing.assert_allclose(hdul_mef_data_1, hdul_mef_data_1 - hdul_mef_data_2)"
   ]
  },
  {
   "cell_type": "code",
   "execution_count": 26,
   "metadata": {},
   "outputs": [
    {
     "name": "stdout",
     "output_type": "stream",
     "text": [
      "INFO: first HDU with data is extension 1. [astropy.nddata.ccddata]\n"
     ]
    }
   ],
   "source": [
    "test_ccd_mef_read = CCDData.read(\"test_mef.fits\", unit='adu')"
   ]
  },
  {
   "cell_type": "code",
   "execution_count": 27,
   "metadata": {},
   "outputs": [
    {
     "data": {
      "text/plain": [
       "array([[1., 1., 1., 1., 1., 1., 1., 1., 1., 1.],\n",
       "       [1., 1., 1., 1., 1., 1., 1., 1., 1., 1.],\n",
       "       [1., 1., 1., 1., 1., 1., 1., 1., 1., 1.],\n",
       "       [1., 1., 1., 1., 1., 1., 1., 1., 1., 1.],\n",
       "       [1., 1., 1., 1., 1., 1., 1., 1., 1., 1.],\n",
       "       [1., 1., 1., 1., 1., 1., 1., 1., 1., 1.],\n",
       "       [1., 1., 1., 1., 1., 1., 1., 1., 1., 1.],\n",
       "       [1., 1., 1., 1., 1., 1., 1., 1., 1., 1.],\n",
       "       [1., 1., 1., 1., 1., 1., 1., 1., 1., 1.],\n",
       "       [1., 1., 1., 1., 1., 1., 1., 1., 1., 1.]])"
      ]
     },
     "execution_count": 27,
     "metadata": {},
     "output_type": "execute_result"
    }
   ],
   "source": [
    "test_ccd_mef_read.data"
   ]
  },
  {
   "cell_type": "code",
   "execution_count": 28,
   "metadata": {},
   "outputs": [
    {
     "name": "stdout",
     "output_type": "stream",
     "text": [
      "<class 'astropy.nddata.nduncertainty.StdDevUncertainty'>\n"
     ]
    },
    {
     "data": {
      "text/plain": [
       "StdDevUncertainty([[0., 0., 0., 0., 0., 0., 0., 0., 0., 0.],\n",
       "                   [0., 0., 0., 0., 0., 0., 0., 0., 0., 0.],\n",
       "                   [0., 0., 0., 0., 0., 0., 0., 0., 0., 0.],\n",
       "                   [0., 0., 0., 0., 0., 0., 0., 0., 0., 0.],\n",
       "                   [0., 0., 0., 0., 0., 0., 0., 0., 0., 0.],\n",
       "                   [0., 0., 0., 0., 0., 0., 0., 0., 0., 0.],\n",
       "                   [0., 0., 0., 0., 0., 0., 0., 0., 0., 0.],\n",
       "                   [0., 0., 0., 0., 0., 0., 0., 0., 0., 0.],\n",
       "                   [0., 0., 0., 0., 0., 0., 0., 0., 0., 0.],\n",
       "                   [0., 0., 0., 0., 0., 0., 0., 0., 0., 0.]])"
      ]
     },
     "execution_count": 28,
     "metadata": {},
     "output_type": "execute_result"
    }
   ],
   "source": [
    "print(type(test_ccd_mef_read.uncertainty))\n",
    "test_ccd_mef_read.uncertainty"
   ]
  },
  {
   "cell_type": "code",
   "execution_count": 29,
   "metadata": {},
   "outputs": [],
   "source": [
    "tmpfitsfiles = Path('.').glob(\"test*.fits\")\n",
    "for fpath in tmpfitsfiles:\n",
    "    fpath.unlink()"
   ]
  }
 ],
 "metadata": {
  "kernelspec": {
   "display_name": "Python 3",
   "language": "python",
   "name": "python3"
  },
  "language_info": {
   "codemirror_mode": {
    "name": "ipython",
    "version": 3
   },
   "file_extension": ".py",
   "mimetype": "text/x-python",
   "name": "python",
   "nbconvert_exporter": "python",
   "pygments_lexer": "ipython3",
   "version": "3.10.10"
  },
  "varInspector": {
   "cols": {
    "lenName": 16,
    "lenType": 16,
    "lenVar": 40
   },
   "kernels_config": {
    "python": {
     "delete_cmd_postfix": "",
     "delete_cmd_prefix": "del ",
     "library": "var_list.py",
     "varRefreshCmd": "print(var_dic_list())"
    },
    "r": {
     "delete_cmd_postfix": ") ",
     "delete_cmd_prefix": "rm(",
     "library": "var_list.r",
     "varRefreshCmd": "cat(var_dic_list()) "
    }
   },
   "types_to_exclude": [
    "module",
    "function",
    "builtin_function_or_method",
    "instance",
    "_Feature"
   ],
   "window_display": false
  }
 },
 "nbformat": 4,
 "nbformat_minor": 2
}