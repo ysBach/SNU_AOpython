{
 "cells": [
  {
   "cell_type": "code",
   "execution_count": 1,
   "metadata": {},
   "outputs": [
    {
     "name": "stderr",
     "output_type": "stream",
     "text": [
      "/var/folders/b1/mdnx6bfn6_v7p70xc3hpc9vh0000gn/T/ipykernel_61456/3697760678.py:12: DeprecationWarning: `photutils.EllipticalAperture` is a deprecated alias for `photutils.aperture.EllipticalAperture` and will be removed in the future. Instead, please use `from photutils.aperture import EllipticalAperture` to silence this warning.\n",
      "  from photutils import EllipticalAperture, Background2D\n",
      "/var/folders/b1/mdnx6bfn6_v7p70xc3hpc9vh0000gn/T/ipykernel_61456/3697760678.py:12: DeprecationWarning: `photutils.Background2D` is a deprecated alias for `photutils.background.Background2D` and will be removed in the future. Instead, please use `from photutils.background import Background2D` to silence this warning.\n",
      "  from photutils import EllipticalAperture, Background2D\n"
     ]
    },
    {
     "name": "stderr",
     "output_type": "stream",
     "text": [
      "WARNING: FITSFixedWarning: RADECSYS= 'ICRS ' / International Celestial Ref. System \n",
      "the RADECSYS keyword is deprecated, use RADESYSa. [astropy.wcs.wcs]\n",
      "WARNING: FITSFixedWarning: 'datfix' made the change 'Set MJD-OBS to 54057.000000 from DATE-OBS'. [astropy.wcs.wcs]\n",
      "/Users/ysbach/Dropbox/github/ysfitsutilpy/ysfitsutilpy/hduutil.py:1502: UserWarning: Nonlinear WCS in `ccd.wcs.get_axis_types()`. This may result in slightly inaccurate WCS calculation.\n",
      "  warn(\n"
     ]
    }
   ],
   "source": [
    "from pathlib import Path\n",
    "import numpy as np\n",
    "\n",
    "from astropy.table import Table\n",
    "from astropy.nddata import CCDData\n",
    "from astropy.stats import sigma_clipped_stats, gaussian_fwhm_to_sigma\n",
    "from astropy.convolution import Gaussian2DKernel\n",
    "from astropy.visualization.wcsaxes import add_scalebar\n",
    "\n",
    "from photutils.segmentation import detect_sources, deblend_sources\n",
    "from photutils.isophote import EllipseGeometry, Ellipse, build_ellipse_model\n",
    "from photutils import EllipticalAperture, Background2D\n",
    "\n",
    "from matplotlib import pyplot as plt\n",
    "from matplotlib import rcParams\n",
    "from matplotlib.patches import Rectangle\n",
    "\n",
    "import ysfitsutilpy as yfu\n",
    "import ysvisutilpy as yvu\n",
    "\n",
    "import _tool_visualization as vis\n",
    "\n",
    "plt.style.use('default')\n",
    "rcParams.update({'font.size':12})\n",
    "\n",
    "DATAPATH = Path(\"../../Tutorial_Data\")\n",
    "ccd_orig = CCDData.read(DATAPATH / \"ngc1132_r.fits\")\n",
    "ccd = yfu.cut_ccd(ccd_orig, position=(1260, 480), size=(150, 150))\n",
    "data_orig = ccd_orig.data\n",
    "data = ccd.data"
   ]
  },
  {
   "cell_type": "code",
   "execution_count": 2,
   "metadata": {},
   "outputs": [
    {
     "ename": "NameError",
     "evalue": "name 'data_all' is not defined",
     "output_type": "error",
     "traceback": [
      "\u001b[0;31m---------------------------------------------------------------------------\u001b[0m",
      "\u001b[0;31mNameError\u001b[0m                                 Traceback (most recent call last)",
      "Cell \u001b[0;32mIn[2], line 7\u001b[0m\n\u001b[1;32m      4\u001b[0m ax0 \u001b[38;5;241m=\u001b[39m plt\u001b[38;5;241m.\u001b[39msubplot(\u001b[38;5;241m121\u001b[39m, projection\u001b[38;5;241m=\u001b[39mccd_orig\u001b[38;5;241m.\u001b[39mwcs)\n\u001b[1;32m      5\u001b[0m ax1 \u001b[38;5;241m=\u001b[39m plt\u001b[38;5;241m.\u001b[39msubplot(\u001b[38;5;241m122\u001b[39m, projection\u001b[38;5;241m=\u001b[39mccd\u001b[38;5;241m.\u001b[39mwcs)\n\u001b[0;32m----> 7\u001b[0m vis\u001b[38;5;241m.\u001b[39mnorm_imshow(ax0, \u001b[43mdata_all\u001b[49m, zscale\u001b[38;5;241m=\u001b[39m\u001b[38;5;28;01mTrue\u001b[39;00m)\n\u001b[1;32m      8\u001b[0m im \u001b[38;5;241m=\u001b[39m vis\u001b[38;5;241m.\u001b[39mnorm_imshow(ax1, data, zscale\u001b[38;5;241m=\u001b[39m\u001b[38;5;28;01mTrue\u001b[39;00m)\n\u001b[1;32m      9\u001b[0m vis\u001b[38;5;241m.\u001b[39mcolorbaring(fig, ax1, im, fmt\u001b[38;5;241m=\u001b[39m\u001b[38;5;124m\"\u001b[39m\u001b[38;5;132;01m%.1f\u001b[39;00m\u001b[38;5;124m\"\u001b[39m, pad\u001b[38;5;241m=\u001b[39m\u001b[38;5;241m0.2\u001b[39m, label\u001b[38;5;241m=\u001b[39m\u001b[38;5;124m\"\u001b[39m\u001b[38;5;124mnanomaggy [3.631e-6 Jy]\u001b[39m\u001b[38;5;124m\"\u001b[39m)\n",
      "\u001b[0;31mNameError\u001b[0m: name 'data_all' is not defined"
     ]
    },
    {
     "data": {
      "image/png": "[encoded data removed]",
      "text/plain": [
       "<Figure size 1000x500 with 2 Axes>"
      ]
     },
     "metadata": {},
     "output_type": "display_data"
    }
   ],
   "source": [
    "from astropy import units as u\n",
    "\n",
    "fig = plt.figure(figsize=(10, 5))\n",
    "ax0 = plt.subplot(121, projection=ccd_orig.wcs)\n",
    "ax1 = plt.subplot(122, projection=ccd.wcs)\n",
    "\n",
    "vis.norm_imshow(ax0, data_all, zscale=True)\n",
    "im = vis.norm_imshow(ax1, data, zscale=True)\n",
    "vis.colorbaring(fig, ax1, im, fmt=\"%.1f\", pad=0.2, label=\"nanomaggy [3.631e-6 Jy]\")\n",
    "for i, (ax, sp) in enumerate(zip([ax0, ax1], [0.05, 0.005])):\n",
    "    lon, lat = ax.coords\n",
    "    lon.set_axislabel(\"RA\", minpad=0.5)\n",
    "    lat.set_axislabel(\"DEC\", minpad=0.5)\n",
    "    lon.set_major_formatter('d.dd' + \"d\"*i)\n",
    "    lat.set_major_formatter('d.dd' + \"d\"*i)\n",
    "    lon.set_ticks(spacing=sp*u.deg)  # or, e.g., number=4\n",
    "    lat.set_ticks(spacing=sp*u.deg) \n",
    "    lon.set_ticklabel(color='k', rotation=45, ha='left', va=\"bottom\", rotation_mode='anchor')\n",
    "    lat.set_ticklabel(color='b', rotation=-45, ha='left', va=\"bottom\", rotation_mode='anchor')\n",
    "    lon.grid(True, color='k', ls='-')\n",
    "    lat.grid(True, color='b', ls='-')\n",
    "    add_scalebar(ax, length=30*u.arcsec, color='y', label='30\"', corner='bottom right')\n",
    "    # lon.set_ticks_position('bt')\n",
    "    # lon.set_ticklabel_position('bt')\n",
    "    # lon.set_axislabel_position('bt')\n",
    "    # lat.set_ticks_position('lr')\n",
    "    # lat.set_ticklabel_position('lr')\n",
    "    # lat.set_axislabel_position('lr')\n",
    "\n",
    "rec = Rectangle((1260-75, 480-75), 150, 150, fc='none', ec='r')\n",
    "ax0.add_patch(rec)\n",
    "\n",
    "ax0.set_title(f\"Original image {ccd_orig.shape}\", y=1.15)\n",
    "ax1.set_title(f\"Cutout near NGC1132 {ccd.shape}\")\n",
    "plt.tight_layout()\n",
    "plt.show()"
   ]
  },
  {
   "cell_type": "code",
   "execution_count": 3,
   "metadata": {},
   "outputs": [
    {
     "ename": "NameError",
     "evalue": "name 'data_all' is not defined",
     "output_type": "error",
     "traceback": [
      "\u001b[0;31m---------------------------------------------------------------------------\u001b[0m",
      "\u001b[0;31mNameError\u001b[0m                                 Traceback (most recent call last)",
      "Cell \u001b[0;32mIn[3], line 6\u001b[0m\n\u001b[1;32m      4\u001b[0m avg, med, std \u001b[38;5;241m=\u001b[39m sigma_clipped_stats(data_orig, sigma\u001b[38;5;241m=\u001b[39m\u001b[38;5;241m3\u001b[39m, maxiters\u001b[38;5;241m=\u001b[39m\u001b[38;5;241m5\u001b[39m)\n\u001b[1;32m      5\u001b[0m mask \u001b[38;5;241m=\u001b[39m data_orig  \u001b[38;5;241m>\u001b[39m med \u001b[38;5;241m+\u001b[39m \u001b[38;5;241m2\u001b[39m\u001b[38;5;241m*\u001b[39mstd\n\u001b[0;32m----> 6\u001b[0m bkg \u001b[38;5;241m=\u001b[39m Background2D(\u001b[43mdata_all\u001b[49m, mask\u001b[38;5;241m=\u001b[39mmask, box_size\u001b[38;5;241m=\u001b[39mbox_size, filter_size\u001b[38;5;241m=\u001b[39mfilter_size, exclude_percentile\u001b[38;5;241m=\u001b[39m\u001b[38;5;241m5\u001b[39m)\n\u001b[1;32m      7\u001b[0m fig, axs \u001b[38;5;241m=\u001b[39m plt\u001b[38;5;241m.\u001b[39msubplots(\u001b[38;5;241m1\u001b[39m, \u001b[38;5;241m2\u001b[39m, figsize\u001b[38;5;241m=\u001b[39m(\u001b[38;5;241m8\u001b[39m, \u001b[38;5;241m5\u001b[39m), sharex\u001b[38;5;241m=\u001b[39m\u001b[38;5;28;01mFalse\u001b[39;00m, sharey\u001b[38;5;241m=\u001b[39m\u001b[38;5;28;01mFalse\u001b[39;00m, gridspec_kw\u001b[38;5;241m=\u001b[39m\u001b[38;5;28;01mNone\u001b[39;00m)\n\u001b[1;32m      9\u001b[0m \u001b[38;5;66;03m#axs[0].\u001b[39;00m\n\u001b[1;32m     10\u001b[0m \u001b[38;5;66;03m# vis.norm_imshow(axs, data_all - bkg.background, zscale=True)\u001b[39;00m\n",
      "\u001b[0;31mNameError\u001b[0m: name 'data_all' is not defined"
     ]
    }
   ],
   "source": [
    "box_size = 50\n",
    "filter_size = 9\n",
    "\n",
    "avg, med, std = sigma_clipped_stats(data_orig, sigma=3, maxiters=5)\n",
    "mask = data_orig  > med + 2*std\n",
    "bkg = Background2D(data_all, mask=mask, box_size=box_size, filter_size=filter_size, exclude_percentile=5)\n",
    "fig, axs = plt.subplots(1, 2, figsize=(8, 5), sharex=False, sharey=False, gridspec_kw=None)\n",
    "\n",
    "#axs[0].\n",
    "# vis.norm_imshow(axs, data_all - bkg.background, zscale=True)\n",
    "vis.norm_imshow(axs[0], data_all, zscale=True)\n",
    "vis.norm_imshow(axs[0], mask, alpha=0.5, cmap='Reds')\n",
    "im = vis.norm_imshow(axs[1], bkg.background, zscale=True)\n",
    "vis.colorbaring(fig, axs[1], im, fmt=\"%.3f\", pad=0.1, label=\"nanomaggy [3.631e-6 Jy]\")\n",
    "axs[0].set(title=\"Image with Mask (faint red)\")\n",
    "axs[1].set(title=\"Background estimation\")\n",
    "plt.tight_layout()\n",
    "plt.show();\n"
   ]
  },
  {
   "cell_type": "code",
   "execution_count": 4,
   "metadata": {},
   "outputs": [
    {
     "ename": "TypeError",
     "evalue": "detect_sources() got an unexpected keyword argument 'filter_kernel'",
     "output_type": "error",
     "traceback": [
      "\u001b[0;31m---------------------------------------------------------------------------\u001b[0m",
      "\u001b[0;31mTypeError\u001b[0m                                 Traceback (most recent call last)",
      "Cell \u001b[0;32mIn[4], line 7\u001b[0m\n\u001b[1;32m      5\u001b[0m avg, med, std \u001b[38;5;241m=\u001b[39m sigma_clipped_stats(data, sigma\u001b[38;5;241m=\u001b[39m\u001b[38;5;241m3\u001b[39m, maxiters\u001b[38;5;241m=\u001b[39m\u001b[38;5;241m5\u001b[39m, std_ddof\u001b[38;5;241m=\u001b[39m\u001b[38;5;241m1\u001b[39m)\n\u001b[1;32m      6\u001b[0m threshold \u001b[38;5;241m=\u001b[39m med \u001b[38;5;241m+\u001b[39m \u001b[38;5;241m3\u001b[39m \u001b[38;5;241m*\u001b[39m std\n\u001b[0;32m----> 7\u001b[0m segm \u001b[38;5;241m=\u001b[39m \u001b[43mdetect_sources\u001b[49m\u001b[43m(\u001b[49m\u001b[43mdata\u001b[49m\u001b[43m,\u001b[49m\u001b[43m \u001b[49m\u001b[43mthreshold\u001b[49m\u001b[43m,\u001b[49m\u001b[43m \u001b[49m\u001b[43mnpixels\u001b[49m\u001b[38;5;241;43m=\u001b[39;49m\u001b[38;5;241;43m5\u001b[39;49m\u001b[43m,\u001b[49m\u001b[43m \u001b[49m\u001b[43mfilter_kernel\u001b[49m\u001b[38;5;241;43m=\u001b[39;49m\u001b[43mkernel\u001b[49m\u001b[43m)\u001b[49m\n\u001b[1;32m      9\u001b[0m fig, axs \u001b[38;5;241m=\u001b[39m plt\u001b[38;5;241m.\u001b[39msubplots(\u001b[38;5;241m1\u001b[39m, \u001b[38;5;241m2\u001b[39m, figsize\u001b[38;5;241m=\u001b[39m(\u001b[38;5;241m6\u001b[39m, \u001b[38;5;241m4\u001b[39m), sharex\u001b[38;5;241m=\u001b[39m\u001b[38;5;28;01mFalse\u001b[39;00m, sharey\u001b[38;5;241m=\u001b[39m\u001b[38;5;28;01mFalse\u001b[39;00m, gridspec_kw\u001b[38;5;241m=\u001b[39m\u001b[38;5;28;01mNone\u001b[39;00m)\n\u001b[1;32m     10\u001b[0m axs[\u001b[38;5;241m0\u001b[39m]\u001b[38;5;241m.\u001b[39mimshow(segm, origin\u001b[38;5;241m=\u001b[39m\u001b[38;5;124m'\u001b[39m\u001b[38;5;124mlower\u001b[39m\u001b[38;5;124m'\u001b[39m, cmap\u001b[38;5;241m=\u001b[39msegm\u001b[38;5;241m.\u001b[39mmake_cmap(random_state\u001b[38;5;241m=\u001b[39m\u001b[38;5;241m12345\u001b[39m))\n",
      "File \u001b[0;32m~/mambaforge/lib/python3.10/site-packages/astropy/utils/decorators.py:607\u001b[0m, in \u001b[0;36mdeprecated_renamed_argument.<locals>.decorator.<locals>.wrapper\u001b[0;34m(*args, **kwargs)\u001b[0m\n\u001b[1;32m    604\u001b[0m             msg \u001b[38;5;241m+\u001b[39m\u001b[38;5;241m=\u001b[39m \u001b[38;5;124mf\u001b[39m\u001b[38;5;124m\"\u001b[39m\u001b[38;5;130;01m\\n\u001b[39;00m\u001b[38;5;124m        Use \u001b[39m\u001b[38;5;132;01m{\u001b[39;00malternative\u001b[38;5;132;01m}\u001b[39;00m\u001b[38;5;124m instead.\u001b[39m\u001b[38;5;124m\"\u001b[39m\n\u001b[1;32m    605\u001b[0m         warnings\u001b[38;5;241m.\u001b[39mwarn(msg, warning_type, stacklevel\u001b[38;5;241m=\u001b[39m\u001b[38;5;241m2\u001b[39m)\n\u001b[0;32m--> 607\u001b[0m \u001b[38;5;28;01mreturn\u001b[39;00m \u001b[43mfunction\u001b[49m\u001b[43m(\u001b[49m\u001b[38;5;241;43m*\u001b[39;49m\u001b[43margs\u001b[49m\u001b[43m,\u001b[49m\u001b[43m \u001b[49m\u001b[38;5;241;43m*\u001b[39;49m\u001b[38;5;241;43m*\u001b[39;49m\u001b[43mkwargs\u001b[49m\u001b[43m)\u001b[49m\n",
      "\u001b[0;31mTypeError\u001b[0m: detect_sources() got an unexpected keyword argument 'filter_kernel'"
     ]
    }
   ],
   "source": [
    "sigma = 3.0 * gaussian_fwhm_to_sigma    # FWHM = 3.\n",
    "kernel = Gaussian2DKernel(sigma, x_size=3, y_size=3)\n",
    "kernel.normalize()\n",
    "\n",
    "avg, med, std = sigma_clipped_stats(data, sigma=3, maxiters=5, std_ddof=1)\n",
    "threshold = med + 3 * std\n",
    "segm = detect_sources(data, threshold, npixels=5, filter_kernel=kernel)\n",
    "\n",
    "fig, axs = plt.subplots(1, 2, figsize=(6, 4), sharex=False, sharey=False, gridspec_kw=None)\n",
    "axs[0].imshow(segm, origin='lower', cmap=segm.make_cmap(random_state=12345))\n",
    "axs[1].imshow(segm, origin='lower', cmap=segm.make_cmap(random_state=12345))\n",
    "axs[1].imshow(data, origin='lower', alpha=0.9)\n",
    "\n",
    "axs[0].set_title(\"Segmentation of Sources\")\n",
    "axs[1].set_title(\"Overplotted with data\")\n",
    "plt.tight_layout()"
   ]
  }
 ],
 "metadata": {
  "kernelspec": {
   "display_name": "base",
   "language": "python",
   "name": "python3"
  },
  "language_info": {
   "codemirror_mode": {
    "name": "ipython",
    "version": 3
   },
   "file_extension": ".py",
   "mimetype": "text/x-python",
   "name": "python",
   "nbconvert_exporter": "python",
   "pygments_lexer": "ipython3",
   "version": "3.10.10"
  }
 },
 "nbformat": 4,
 "nbformat_minor": 2
}