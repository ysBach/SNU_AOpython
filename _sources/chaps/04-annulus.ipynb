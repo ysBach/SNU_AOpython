{
 "cells": [
  {
   "attachments": {},
   "cell_type": "markdown",
   "metadata": {},
   "source": [
    "(ch:annulus)=\n",
    "# Annulus & Local Sky\n",
    "\n",
    "An [annulus](https://en.wikipedia.org/wiki/Annulus_(mathematics)) (plural can be annuli or annuluses) basically a circular ring. In astronomy, it can also be a random shaped ring-like shape, e.g., the region between two rectangles."
   ]
  },
  {
   "cell_type": "code",
   "execution_count": null,
   "metadata": {},
   "outputs": [],
   "source": [
    "# Ignore this cell if you encounter errors\n",
    "%load_ext version_information\n",
    "import time\n",
    "now = time.strftime(\"%Y-%m-%d %H:%M:%S (%Z = GMT%z)\")\n",
    "print(f\"This notebook was generated at {now} \")\n",
    "\n",
    "vv = %version_information astropy, numpy, scipy, matplotlib, photutils, version_information\n",
    "for i, pkg in enumerate(vv.packages):\n",
    "    print(f\"{i} {pkg[0]:10s} {pkg[1]:s}\")"
   ]
  },
  {
   "cell_type": "code",
   "execution_count": 2,
   "metadata": {},
   "outputs": [],
   "source": [
    "# %matplotlib notebook\n",
    "from IPython.core.interactiveshell import InteractiveShell\n",
    "from IPython import get_ipython\n",
    "%config InlineBackend.figure_format = 'retina'\n",
    "InteractiveShell.ast_node_interactivity = 'last_expr'\n",
    "ipython = get_ipython()\n",
    "\n",
    "from pathlib import Path\n",
    "import numpy as np\n",
    "\n",
    "from astropy.nddata import CCDData, Cutout2D\n",
    "from astropy.stats import sigma_clipped_stats\n",
    "\n",
    "from matplotlib import pyplot as plt\n",
    "from matplotlib import rcParams\n",
    "plt.style.use('default')\n",
    "rcParams.update({'font.size':12})\n",
    "\n",
    "from photutils.aperture import (CircularAperture, CircularAnnulus, \n",
    "                                aperture_photometry, ApertureStats)\n",
    "from photutils.detection import DAOStarFinder\n",
    "\n",
    "import warnings\n",
    "warnings.filterwarnings('ignore', category=UserWarning, append=True)\n",
    "\n",
    "import _tool_visualization as vis\n",
    "\n",
    "DATAPATH = Path('../../Tutorial_Data')\n",
    "TMPDIR = Path('tmp')\n",
    "TMPDIR.mkdir(exist_ok=True)"
   ]
  },
  {
   "cell_type": "code",
   "execution_count": 3,
   "metadata": {},
   "outputs": [
    {
     "name": "stderr",
     "output_type": "stream",
     "text": [
      "WARNING: FITSFixedWarning: RADECSYS= 'ICRS ' / Telescope Coordinate System \n",
      "the RADECSYS keyword is deprecated, use RADESYSa. [astropy.wcs.wcs]\n"
     ]
    }
   ],
   "source": [
    "# 1. Load data\n",
    "allfits = list(DATAPATH.glob(\"*p4179*.fits\"))\n",
    "allfits.sort()\n",
    "\n",
    "ccd = CCDData.read(allfits[0])\n",
    "cut = Cutout2D(ccd, position=(273, 314), size=(100,100))"
   ]
  },
  {
   "attachments": {},
   "cell_type": "markdown",
   "metadata": {},
   "source": [
    "In previous "
   ]
  },
  {
   "cell_type": "code",
   "execution_count": null,
   "metadata": {},
   "outputs": [],
   "source": []
  }
 ],
 "metadata": {
  "kernelspec": {
   "display_name": "snuao",
   "language": "python",
   "name": "python3"
  },
  "language_info": {
   "codemirror_mode": {
    "name": "ipython",
    "version": 3
   },
   "file_extension": ".py",
   "mimetype": "text/x-python",
   "name": "python",
   "nbconvert_exporter": "python",
   "pygments_lexer": "ipython3",
   "version": "3.10.10"
  },
  "orig_nbformat": 4
 },
 "nbformat": 4,
 "nbformat_minor": 2
}
