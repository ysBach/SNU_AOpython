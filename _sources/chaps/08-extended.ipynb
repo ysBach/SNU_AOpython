{
 "cells": [
  {
   "attachments": {},
   "cell_type": "markdown",
   "metadata": {},
   "source": [
    "(ch:extended)=\n",
    "# Extended Source Photometry\n",
    "\n",
    "We learned 2-D background estimations using ``photutils`` and ``sep``, which are mere pyhonically ported SExtractor. The goal of SExtractor is, as explained earlier, to extract arbitrary source (star, galaxy, ...) in the image.\n",
    "\n",
    "Here we will explore this **source extraction** part of them. \n",
    "\n",
    "```{important} \n",
    "Before proceed, I expect you to read and follow the documentations and tutorials of\n",
    "1. [photutils/Image Segmentation](https://photutils.readthedocs.io/en/stable/segmentation.html) \n",
    "    * Image convolution and source detection\n",
    "    * Source deblending\n",
    "    * `SourceCatalog` class & extended source photometry\n",
    "2. [photutils/morphology](https://photutils.readthedocs.io/en/stable/morphology.html)\n",
    "    * Read this with `SourceCatalog` above.\n",
    "3. [photutils/ELLIPSE Isophote analysis](https://photutils.readthedocs.io/en/stable/isophote.html)\n",
    "    * This is the implementation of STSDAS.ISOPHOT.ELLIPSE package into python by Ivo Busko.\n",
    "    * If you are planning on doing research on galaxies, you may also want to have a look at [additional notebooks](https://photutils.readthedocs.io/en/stable/isophote.html#additional-example-notebooks-online). Note that these are last updated in Jan. 2021, so some code lines will not work properly. \n",
    "4. You may also refer to all the remaining parts of [sep documentations](https://sep.readthedocs.io/en/v1.1.x/tutorial.html#Object-detection).\n",
    "```\n",
    "\n"
   ]
  },
  {
   "cell_type": "markdown",
   "metadata": {},
   "source": []
  }
 ],
 "metadata": {
  "language_info": {
   "name": "python"
  },
  "orig_nbformat": 4
 },
 "nbformat": 4,
 "nbformat_minor": 2
}
