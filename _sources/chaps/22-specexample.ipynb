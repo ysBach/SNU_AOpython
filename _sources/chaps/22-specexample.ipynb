{
 "cells": [
  {
   "cell_type": "markdown",
   "metadata": {},
   "source": [
    "(ch:specexample)=\n",
    "# Python Example of Longslit Spectroscopy\n",
    "\n",
    "In this note, I show how a longslit spectrum data can be reduced.\n",
    "* Original data: 2-D FITS files (bias, dark, flat, lamp, science image)\n",
    "* Final data: 1-D spectrum (flux at each λ)\n",
    "\n",
    "```{note}\n",
    "Let me repeat again: This lecture note is ignoring anything about preprocessing. If preprocessing-related lecture is required, I recommend [Matthew Craig's CCD Data Reduction Guide](https://www.astropy.org/ccd-reduction-and-photometry-guide/v/dev/notebooks/00-00-Preface.html).\n",
    "```\n",
    "\n",
    "## About the Data\n",
    "The data we will use is the longslit spectrum data of a periodic comet, [45P/Honda–Mrkos–Pajdušáková](https://en.wikipedia.org/wiki/45P/Honda%E2%80%93Mrkos%E2%80%93Pajdu%C5%A1%C3%A1kov%C3%A1).\n",
    "\n",
    "```{admonition} Observational information\n",
    ":class: info\n",
    "* Nishi-Harima Astronomical Observatory (NHAO).\n",
    "* Nayuta Telescope (D=2.0m, F/12, Nasmyth)\n",
    "* In 2017 February\n",
    "* FLI PL230-BI CCD (pixel 15µm), 0.34 arcsec/pixel.\n",
    "* Used MALLS ([official website in Japanese](http://www.nhao.jp/~malls/malls_wiki/index.php?MALLS)).\n",
    "  * Grating: 150 lines/mm, so-called \"Low1\" (or just \"Low\")\n",
    "  * Order cut filter: WG320\n",
    "  * λ = 3700–9500Å, total wavelength range = 5700Å\n",
    "  * Slit width = 1.6 arcsec\n",
    "  * resolution R~600 (@550nm, under slit width 1.2\")\n",
    "  * Basic info is written in file headers.\n",
    "```\n",
    "\n",
    "\n",
    "## Postprocessing\n",
    "\n",
    "First, the data should be preprocessed (bias subtraction, dark subtraction, flat fielding).\n",
    "\n",
    "Then the tricky part. There is no single best way, so we need a lot of interaction with computers. That includes\n",
    "\n",
    "1. Wavelength identification (ID): First, you cut a small fraction of the comparison lamp image and let the computer calculate the wavelength $\\lambda = \\lambda(x)$ for given pixel value ``x``.\n",
    "2. Reidentification (REID): Then you must check that this function makes sense throughout the whole image. REID checks it.\n",
    "3. Aperture trace (aptrace): The object spectrum cannot be perfectly parallel to the dispersion direction. Aptrace (in IRAF, ``APALL``) is to find how the source moves along the dispersion direction.\n",
    "4. Sky subtraction: The sky should be subtracted *at each wavelength*.\n",
    "5. Aperture sum: We then sum the pixel values within the selected aperture. "
   ]
  },
  {
   "cell_type": "markdown",
   "metadata": {},
   "source": []
  }
 ],
 "metadata": {
  "language_info": {
   "name": "python"
  },
  "orig_nbformat": 4
 },
 "nbformat": 4,
 "nbformat_minor": 2
}
