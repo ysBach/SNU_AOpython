{
 "cells": [
  {
   "cell_type": "markdown",
   "metadata": {},
   "source": [
    "(ch:specpreface)=\n",
    "# Python Spectroscopy Preface\n",
    "\n",
    "This is a short note, originally written in 2016-2018. As of late 2023, the situation did not change much, unfortunately. \n",
    "\n",
    "However, importantly, [PypeIt](https://github.com/pypeit/PypeIt) appeared after this lecture note. If a professional spectroscopic data reduction is requited (for research), you may consult with PypeIt for your work, and/or make a whole new pipeline for your specific instrument.\n",
    "\n",
    "In later notes, I will demonstrate how to do the spectroscopic data reduction using python. Since the concepts of the tasks, i.e., the procedures of what you should do, are clear, you must be able to do them in any language you can use.\n",
    "\n",
    "## General References\n",
    "Some useful materials to understand spectroscopic data reduction:\n",
    "* [Wagner's writing in 1992](http://adsabs.harvard.edu/abs/1992ASPC...23..160W)\n",
    "  * As far as I know, this is the most comprehensive article about spectroscopic data reduction, including theoretical background and practical usage (using IRAF).\n",
    "* [FOCAS cookbook](https://www.subarutelescope.org/Observing/DataReduction/Cookbooks/FOCAS_cookbook_2010jan05.pdf)\n",
    "  * This is written specifically for FOCAS and is one of the available English manuals for that specific instrument. It gives you an idea of how to reduce data using IRAF.\n",
    "  * Even though you are not using FOCAS, Sections 5, 6, and Appendix B will generally be useful. Especially Sections 5.5 (and 5.7) are very valuable.\n",
    "* Among the [IRAF archive](http://iraf.noao.edu/iraf-ftp.html), the writing by [Massey et al. in 1992](ftp://iraf.noao.edu/ftp/docs/spect.ps.Z) is **THE** official manual for doing spectroscopic data reduction in IRAF.\n"
   ]
  },
  {
   "cell_type": "markdown",
   "metadata": {},
   "source": [
    "## Available Packages\n",
    "As you can see, all the important materials are made for IRAF, not Python. I could only find a few informative packages, including [PyDIS](https://github.com/jradavenport/pydis) by Dr. James Davenport. There is currently an ongoing discussion about making a spectroscopy package in astropy called [specutils](https://github.com/astropy/specutils). \n",
    "\n",
    "But currently, there are no useful packages as of 2021 (situation is similar as of 2023 Fall). One of the most recent discussions about this issue among the *Python users in Astronomy* group was [this](https://www.facebook.com/groups/astropython/permalink/2473081482936527/), with no hope.\n",
    "\n",
    "* In our lecture note's [references/](https://github.com/ysBach/SNU_AOclass/tree/master/references), you can find some materials related to spectroscopy.\n",
    "* The astropy-affiliated package [``specutils``](https://specutils.readthedocs.io/en/stable/) is under development now. It will be released in a \"usable\" form only in 2019. It's useful only after you've obtained the 1-D spectrum from your data.\n",
    "* You may benchmark [PypeIt](https://github.com/pypeit/PypeIt)\n",
    "\n",
    "## Remarks\n",
    "\n",
    "In short, there are currently no perfect python tools or packages to satisfactorily do the spectroscopic data reduction in python (to replace IRAF). Among them, [PypeIt](https://github.com/pypeit/PypeIt) has the biggest potential, but still not in a satisfactory stage. So my basic philosophy in producing this material is:\n",
    "\n",
    "1. Make explicit codes step by step so that every process is visible.\n",
    "   * This means I intentionally do not make packages for all the processes. Only simple code snippets will be shown here.\n",
    "   * As I am not an expert in programming (and I believe a scientist sometimes *should not* think too much about these technical issues), the codes are never carefully optimized. But they work, at least.\n",
    "2. Make the code similar to IRAF.\n",
    "   * This is basically because IRAF is still the *de facto* standard for spectroscopic data reduction. If I try to take some different approach than IRAF, it may require significant effort from my side (which is impossible due to my lack of ability), and I do believe that IRAF is very carefully designed.\n",
    "   \n",
    "In the following notes, I show my own code, which **can be extremely slow and inefficient compared to optimized codes**. I didn't care much about technical details (faster calculation, etc.), basically due to my lack of ability plus time limits."
   ]
  },
  {
   "cell_type": "markdown",
   "metadata": {},
   "source": []
  }
 ],
 "metadata": {
  "language_info": {
   "name": "python"
  },
  "orig_nbformat": 4
 },
 "nbformat": 4,
 "nbformat_minor": 2
}
